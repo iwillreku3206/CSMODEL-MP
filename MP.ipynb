﻿{
 "cells": [
  {
   "metadata": {},
   "cell_type": "markdown",
   "source": "## Analyzing the Factors that Won Counter-Strike 2 Rounds at IEM Dallas 2025",
   "id": "248ec40522045877"
  },
  {
   "metadata": {},
   "cell_type": "markdown",
   "source": [
    "### Background\n",
    "\n",
    "Counter-Strike 2 (CS2) is a first-person shooter esports game made by Valve Corporation. The game is divided into many rounds, where teams play either the Terrorists (T) who try to plant a bomb on a specific parts of the map (\"bombsites\"), and the Counter-Terrorists (CT) who try to defuse the bomb or kill the terrorists.\n",
    "\n",
    "<div>\n",
    "<center><img src=\"assets/game_screenshot.jpg\" width=\"500\"/><br /><b>Sample in-game screenshot of Counter-Strike 2</b></center>\n",
    "</div>\n",
    "\n",
    "Teams play 12 rounds on each side (sometimes called \"regulation time\"), and the first team to get 13 rounds won, wins the game. If both teams reach 12 rounds won, then the game goes into \"overtime\" (OT), and additional 3 rounds are added to each side, meaning a team wins in overtime if 4 rounds are won. If both teams win 3 rounds in overtime, the game goes into another overtime infinitely until a team wins 4 times in overtime.\n",
    "\n",
    "At the start of team round, all players get a specific amount of money that can be used to buy various guns and grenades.\n",
    "\n",
    "The grenades, also known as utilities, can be used by players to get information, or for taking control over parts of the map.\n",
    "\n",
    "<center>\n",
    "<table>\n",
    "    <tr>\n",
    "        <td>\n",
    "            <center><img src=\"assets/flashbang.jpg\" width=\"320\"/><br /><b>Flashbang</b></center>\n",
    "        </td>\n",
    "        <td>\n",
    "            <center><img src=\"assets/smoke.jpg\" width=\"320\"/><br /><b>Smoke Grenade</b></center>\n",
    "        </td>\n",
    "    </tr>\n",
    "    <tr>\n",
    "        <td>\n",
    "            <center><img src=\"assets/henade.jpg\" width=\"320\"/><br /><b>High Explosive Grenade</b></center>\n",
    "        </td>\n",
    "        <td>\n",
    "            <center><img src=\"assets/molotov.jpg\" width=\"320\"/><br /><b>Molotov</b></center>\n",
    "        </td>\n",
    "    </tr>\n",
    "</table>\n",
    "</center>\n",
    "\n",
    "\n",
    "The game has developed a competitive esports scene over both it and its prequel, Counter-Strike: Global Offensive's lifetime. Valve Corporation, as well as other entities such as ESL (Electronic Sports League), PGL and Blast, maintain several tourament circuits around the world. We wanted to analyze different factors about how professional CS2 players play. To do this, we are analyzing games played from a single CS2 tournament, and chose ESL's IEM Dallas 2025 due to its recency at the time of writing and its prestige within the Counter-Strike community.\n",
    "\n",
    "<center><img src=\"assets/esports.jpg\" width=\"500\" /><br /><b>IEM Dallas 2025 Finals (credit: ESL)</b></center>"
   ],
   "id": "ab8011868172dcea"
  },
  {
   "metadata": {},
   "cell_type": "markdown",
   "source": [
    "## Dataset Description\n",
    "\n",
    "Our data is contains information about the games played during IEM Dallas 2025. It is split across four CSV files: `demos.csv`, `players.csv`, `teams.csv` and `matches.csv`.\n",
    "\n",
    "`demos.csv` contains the bulk of our data, and contains specifically data about how the players played for each map (game) of the tournament.\n",
    "\n",
    "`players.csv` contains information about the players at the tournament, including some data about their career.\n",
    "\n",
    "`teams.csv` contains information about the team standings at the tournament.\n",
    "\n",
    "`matches.csv` contains a list of matches and games that were played at the tournament, along with their HLTV links.\n",
    "\n",
    "## Structure of the Data\n",
    "\n",
    "### `demos.csv`\n",
    "\n",
    "Each row in this file contains the statistics of each player in the game, per round. Each column is an attribute of the players per round\n",
    "\n",
    "Number of observations: 14280\n",
    "\n",
    "- `match_id` (int) - Unique ID of the match played\n",
    "- `map_id` (int) - Unique ID of the map played\n",
    "- `round_id` (int) - Unique ID of the map played\n",
    "- `team_name` (string) - Name of the team\n",
    "- `map_name` (string) - Name of map the round was played on\n",
    "- `round_number` (int) - The 1-indexed order of the round played in the map (game)\n",
    "- `round_ct_team` (string) - Team name of the team that is on the CT (Counter-Terrorist) side\n",
    "- `round_first_site_hit` (A' | 'B') - First bombsite that a team set foot in during a round\n",
    "- `round_site_hit_time` (float64) - Time it takes for a team to reach a bombsite\n",
    "- `round_bomb_plant_site` (A' | 'B') - The site where bomb was planted. Null if bomb was not planted.\n",
    "- `player_planted_bomb` (float64) - The site where bomb was planted. Null if bomb was not planted.\n",
    "- `round_bomb_plant_time` (float64) - Time since round start that the bomb was defused (in seconds)\n",
    "- `round_bomb_defuser` (bool) - True if the player defused the bomb, False otherwise\n",
    "- `bomb_defuse_time` (float64) - Time since round start that the bomb was defused (in seconds)\n",
    "- `round_length` (float64) - Length of the round (in seconds)\n",
    "- `round_result` ('T' | 'CT') - Team that won the round\n",
    "- `round_timeout_called_before` (string) - Team that called timeout before the round. Null if no timeout was called\n",
    "- `player_name` (string) - Name of player\n",
    "- `player_flashes_used` (int) - Number of flashbangs the player used in the round\n",
    "- `player_smokes_used` (int) - Number of smoke grenades the player used in the round\n",
    "- `player_grenades_used` (int) - Number of explosive grenades the player used in the round\n",
    "- `player_molotovs_used` (int) - Number of molotovs the player used in the round\n",
    "- `player_incendiaries_used` (int) - Number of incendiary grenades the player used in the round\n",
    "- `player_kills` (int) - Number of kills a player got in the round\n",
    "- `player_died` (bool) - True if the player died in the round\n",
    "- `player_spent_amount` (int) - Amount of money a player spent in the round\n",
    "- `player_loadout` (string) - Items a player has in their inventory at the start of the round, deliminated by `, `\n",
    "- `player_damage` (float64) - Amount of damage a player dealt in the round\n",
    "- `round_first_killer` (bool) - True if the player drew first blood (first kill) in the round\n",
    "- `round_first_death` (bool) - True if the player is the first person to die in the round\n",
    "- `player_headshots` (int) - Number of headshots made by player in a round\n",
    "- `player_upperbodyshots` (int) - Number of upper body (neck, chest, right_arm, left_arm) shots made by player a round\n",
    "- `player_stomachshots` (int) - Number of stomach shots made by player a round\n",
    "- `player_legshots` (string) - Number of leg shots made by player\n",
    "\n",
    "### `players.csv`\n",
    "\n",
    "Each row in this file is a player that played in the tournament. Each column refers to an attribute about the players\n",
    "\n",
    "Number of observations: 80\n",
    "\n",
    "- `playerid` (int) - Unique ID of the player\n",
    "- `name` (string) - Name of the player\n",
    "- `team` (string) - Team name of the player\n",
    "- `proplayer_since_month` (Month) - Month that the player played on their first team\n",
    "- `proplayer_since_year` (int) - Year that the player played on their first team\n",
    "- `on_team_since_month` (Month) - Month that the player played on their current team\n",
    "- `on_team_since_year` (int) - Year that the player played on their current team\n",
    "- `is_stand_in` (bool) - True if the player is a stand-in (not officially on roster)\n",
    "- `has_changed_teams` (bool) - True if the player has changed teams at any point in their career\n",
    "\n",
    "### `matches.csv`\n",
    "\n",
    "Each row in this file is a game played in the tournament. Each column is an attribute for the matches\n",
    "\n",
    "Number of observations: 71\n",
    "\n",
    "- `matchid` (int) - Unique ID of the player\n",
    "- `mapid` (int) - Unique ID of the game (map) played\n",
    "- `team1` (string) - First team of the match\n",
    "- `team2` (string) - Second team of the match\n",
    "- `url` (string) - HLTV URL of the match\n",
    "- `map` (string) - Map the game was played on\n",
    "\n",
    "### `teams.csv`\n",
    "\n",
    "Each row in this file is a team that played in the tournament. Each column is an attribute for the teams\n",
    "\n",
    "Number of observations: 16\n",
    "\n",
    "- `team_name` (string) - Name of the team\n",
    "- `tournament_place` (int) - Placement of the team in IEM Dallas 2025\n"
   ],
   "id": "1c90a4054d0a0500"
  },
  {
   "metadata": {},
   "cell_type": "markdown",
   "source": [
    "## Data Gathering\n",
    "\n",
    "For our data gathering, we downloaded replay (demo) files for all games played during IEM Dallas 2025 from HLTV.org, a website that is considered to be the most comprehensive database of Counter-Strike esports data. The files we downloaded ended up being 71 games total. In order to parse these replay files, we used a library called [`demoparser2`](https://github.com/LaihoE/demoparser). This library allows us to read demo files and parse information such as game events, game ticks, and player information.\n",
    "\n",
    "We created a script called `read_demo.py` that takes in a demo file and creates a CSV file with various statistics for each round and player. We then combine these CSV files with another script called `join_csv.py`. While testing the script, we realized that some games were split into multiple demo files, which were harder to parse, and in the end, we decided to drop these games as these were only 3 out of our entire set.\n",
    "\n",
    "Another issue we encountered was that our initial `read_demo.py` script incorrectly parsed the side (T or CT) that a team was on, so we had to make a second `get_round_sides.py` script that we used to generate a CSV that was then used to patch the original CSV file we generated.\n",
    "\n",
    "In addition to the main CSV file, we also manually scraped `matches.csv` and `players.csv` files to augment the information for our analysis. The data for both of these files come from HLTV.org's public data about players and tournaments, and were manually copied into Google Sheets before exporting as CSV.\n",
    "\n",
    "In summary, the following implications should be noted:\n",
    "- Some games were dropped due to difficulties in parsing data from split demo files.\n",
    "- For player inventories, there are times that the player only had their knife, and no guns at the tick the inventory check was done. Checking the demo file in game showed that the player had dropped their gun at this time.\n",
    "\n"
   ],
   "id": "13535c597a1324ad"
  },
  {
   "metadata": {},
   "cell_type": "markdown",
   "source": "# Data Cleaning",
   "id": "270dab49fa75dc44"
  },
  {
   "metadata": {},
   "cell_type": "markdown",
   "source": "### Import Libraries and Tables",
   "id": "147486132f532813"
  },
  {
   "metadata": {
    "ExecuteTime": {
     "end_time": "2025-06-22T18:02:15.550451Z",
     "start_time": "2025-06-22T18:02:14.092227Z"
    }
   },
   "cell_type": "code",
   "source": [
    "import pandas as pd\n",
    "import matplotlib as plt\n",
    "import numpy as np\n",
    "\n",
    "demos = pd.read_csv(\"demos.csv\")\n",
    "matches = pd.read_csv(\"matches.csv\")\n",
    "players = pd.read_csv(\"players.csv\")\n",
    "teams = pd.read_csv(\"teams.csv\")"
   ],
   "id": "7c9198e224f39a02",
   "outputs": [],
   "execution_count": 1
  },
  {
   "metadata": {},
   "cell_type": "markdown",
   "source": [
    "### Team Names\n",
    "\n",
    "If we read the list of team names in the `players.csv`, `teams.csv` and `demos.csv` files, they differ from each other:"
   ],
   "id": "d12ada9b2255ad44"
  },
  {
   "metadata": {
    "ExecuteTime": {
     "end_time": "2025-06-22T18:02:15.851933Z",
     "start_time": "2025-06-22T18:02:15.829757Z"
    }
   },
   "cell_type": "code",
   "source": [
    "teams_team_names = sorted(teams['team_name'].unique())\n",
    "demos_team_names = sorted(demos['team_name'].unique())\n",
    "players_team_names = sorted(players['team'].unique())\n",
    "\n",
    "pd.DataFrame({\n",
    "    'teams': teams_team_names,\n",
    "    'demos': demos_team_names,\n",
    "    'players': players_team_names\n",
    "})"
   ],
   "id": "10bc168c88673cfd",
   "outputs": [
    {
     "data": {
      "text/plain": [
       "          teams               demos      players\n",
       "0         3DMAX               3DMAX        3DMAX\n",
       "1        Aurora              Aurora       Aurora\n",
       "2       BC.Game                 BCG      BC.Game\n",
       "3         FURIA               FURIA        FURIA\n",
       "4          FaZe           FaZe Clan         FaZe\n",
       "5       Falcons          G2 Esports      Falcons\n",
       "6            G2         GamerLegion           G2\n",
       "7   GamerLegion              HEROIC  GamerLegion\n",
       "8        HEROIC              LEGACY       HEROIC\n",
       "9        Legacy  Lynn Vision Gaming       Legacy\n",
       "10       Liquid                MOUZ       Liquid\n",
       "11  Lynn Vision                 NRG  Lynn Vision\n",
       "12         MOUZ        Team Falcons         MOUZ\n",
       "13          NRG         Team Liquid          NRG\n",
       "14  The MongolZ       Team Vitality  The MongolZ\n",
       "15     Vitality         The MongolZ     Vitality"
      ],
      "text/html": [
       "<div>\n",
       "<style scoped>\n",
       "    .dataframe tbody tr th:only-of-type {\n",
       "        vertical-align: middle;\n",
       "    }\n",
       "\n",
       "    .dataframe tbody tr th {\n",
       "        vertical-align: top;\n",
       "    }\n",
       "\n",
       "    .dataframe thead th {\n",
       "        text-align: right;\n",
       "    }\n",
       "</style>\n",
       "<table border=\"1\" class=\"dataframe\">\n",
       "  <thead>\n",
       "    <tr style=\"text-align: right;\">\n",
       "      <th></th>\n",
       "      <th>teams</th>\n",
       "      <th>demos</th>\n",
       "      <th>players</th>\n",
       "    </tr>\n",
       "  </thead>\n",
       "  <tbody>\n",
       "    <tr>\n",
       "      <th>0</th>\n",
       "      <td>3DMAX</td>\n",
       "      <td>3DMAX</td>\n",
       "      <td>3DMAX</td>\n",
       "    </tr>\n",
       "    <tr>\n",
       "      <th>1</th>\n",
       "      <td>Aurora</td>\n",
       "      <td>Aurora</td>\n",
       "      <td>Aurora</td>\n",
       "    </tr>\n",
       "    <tr>\n",
       "      <th>2</th>\n",
       "      <td>BC.Game</td>\n",
       "      <td>BCG</td>\n",
       "      <td>BC.Game</td>\n",
       "    </tr>\n",
       "    <tr>\n",
       "      <th>3</th>\n",
       "      <td>FURIA</td>\n",
       "      <td>FURIA</td>\n",
       "      <td>FURIA</td>\n",
       "    </tr>\n",
       "    <tr>\n",
       "      <th>4</th>\n",
       "      <td>FaZe</td>\n",
       "      <td>FaZe Clan</td>\n",
       "      <td>FaZe</td>\n",
       "    </tr>\n",
       "    <tr>\n",
       "      <th>5</th>\n",
       "      <td>Falcons</td>\n",
       "      <td>G2 Esports</td>\n",
       "      <td>Falcons</td>\n",
       "    </tr>\n",
       "    <tr>\n",
       "      <th>6</th>\n",
       "      <td>G2</td>\n",
       "      <td>GamerLegion</td>\n",
       "      <td>G2</td>\n",
       "    </tr>\n",
       "    <tr>\n",
       "      <th>7</th>\n",
       "      <td>GamerLegion</td>\n",
       "      <td>HEROIC</td>\n",
       "      <td>GamerLegion</td>\n",
       "    </tr>\n",
       "    <tr>\n",
       "      <th>8</th>\n",
       "      <td>HEROIC</td>\n",
       "      <td>LEGACY</td>\n",
       "      <td>HEROIC</td>\n",
       "    </tr>\n",
       "    <tr>\n",
       "      <th>9</th>\n",
       "      <td>Legacy</td>\n",
       "      <td>Lynn Vision Gaming</td>\n",
       "      <td>Legacy</td>\n",
       "    </tr>\n",
       "    <tr>\n",
       "      <th>10</th>\n",
       "      <td>Liquid</td>\n",
       "      <td>MOUZ</td>\n",
       "      <td>Liquid</td>\n",
       "    </tr>\n",
       "    <tr>\n",
       "      <th>11</th>\n",
       "      <td>Lynn Vision</td>\n",
       "      <td>NRG</td>\n",
       "      <td>Lynn Vision</td>\n",
       "    </tr>\n",
       "    <tr>\n",
       "      <th>12</th>\n",
       "      <td>MOUZ</td>\n",
       "      <td>Team Falcons</td>\n",
       "      <td>MOUZ</td>\n",
       "    </tr>\n",
       "    <tr>\n",
       "      <th>13</th>\n",
       "      <td>NRG</td>\n",
       "      <td>Team Liquid</td>\n",
       "      <td>NRG</td>\n",
       "    </tr>\n",
       "    <tr>\n",
       "      <th>14</th>\n",
       "      <td>The MongolZ</td>\n",
       "      <td>Team Vitality</td>\n",
       "      <td>The MongolZ</td>\n",
       "    </tr>\n",
       "    <tr>\n",
       "      <th>15</th>\n",
       "      <td>Vitality</td>\n",
       "      <td>The MongolZ</td>\n",
       "      <td>Vitality</td>\n",
       "    </tr>\n",
       "  </tbody>\n",
       "</table>\n",
       "</div>"
      ]
     },
     "execution_count": 2,
     "metadata": {},
     "output_type": "execute_result"
    }
   ],
   "execution_count": 2
  },
  {
   "metadata": {},
   "cell_type": "markdown",
   "source": [
    "Both the `teams.csv` and `players.csv` team names are the same, but the ones in `demos.csv` are different.\n",
    "We will replace the values in `players.csv` and `teams.csv` since they are smaller files, for performance reasons.\n",
    "\n",
    "First, we get the differences:"
   ],
   "id": "da3a5af252ebd16e"
  },
  {
   "metadata": {
    "ExecuteTime": {
     "end_time": "2025-06-22T18:02:16.054915Z",
     "start_time": "2025-06-22T18:02:16.043617Z"
    }
   },
   "cell_type": "code",
   "source": [
    "union_ser = pd.Series(np.union1d(teams_team_names, demos_team_names))\n",
    "intersection_ser = pd.Series(np.intersect1d(teams_team_names, demos_team_names))\n",
    "differences = union_ser[~union_ser.isin(intersection_ser)]\n",
    "\n",
    "differences"
   ],
   "id": "16762704bcc89928",
   "outputs": [
    {
     "data": {
      "text/plain": [
       "2                BC.Game\n",
       "3                    BCG\n",
       "5                   FaZe\n",
       "6              FaZe Clan\n",
       "7                Falcons\n",
       "8                     G2\n",
       "9             G2 Esports\n",
       "12                LEGACY\n",
       "13                Legacy\n",
       "14                Liquid\n",
       "15           Lynn Vision\n",
       "16    Lynn Vision Gaming\n",
       "19          Team Falcons\n",
       "20           Team Liquid\n",
       "21         Team Vitality\n",
       "23              Vitality\n",
       "dtype: object"
      ]
     },
     "execution_count": 3,
     "metadata": {},
     "output_type": "execute_result"
    }
   ],
   "execution_count": 3
  },
  {
   "metadata": {},
   "cell_type": "markdown",
   "source": [
    "From here, we can see the following that need to change:\n",
    "\n",
    "- `BC.Game` -> `BCG`\n",
    "- `FaZe` -> `FaZe Clan`\n",
    "- `Falcons` -> `Team Falcons`\n",
    "- `G2` -> `G2 Esports`\n",
    "- `Legacy` -> `LEGACY`\n",
    "- `Liquid` -> `Team Liquid`\n",
    "- `Lynn Vision` -> `Lynn Vision Gaming`\n",
    "- `Vitality` -> `Team Vitality`\n",
    "\n",
    "Now we can fix this:"
   ],
   "id": "46060feef0398e0e"
  },
  {
   "metadata": {
    "ExecuteTime": {
     "end_time": "2025-06-22T18:02:16.248721Z",
     "start_time": "2025-06-22T18:02:16.229170Z"
    }
   },
   "cell_type": "code",
   "source": [
    "teams['team_name'] = teams['team_name'].replace('BC.Game', 'BCG')\n",
    "teams['team_name'] = teams['team_name'].replace('FaZe', 'FaZe Clan')\n",
    "teams['team_name'] = teams['team_name'].replace('Falcons', 'Team Falcons')\n",
    "teams['team_name'] = teams['team_name'].replace('G2', 'G2 Esports')\n",
    "teams['team_name'] = teams['team_name'].replace('Legacy', 'LEGACY')\n",
    "teams['team_name'] = teams['team_name'].replace('Liquid', 'Team Liquid')\n",
    "teams['team_name'] = teams['team_name'].replace('Lynn Vision', 'Lynn Vision Gaming')\n",
    "teams['team_name'] = teams['team_name'].replace('Vitality', 'Team Vitality')\n",
    "\n",
    "players['team'] = players['team'].replace('BC.Game', 'BCG')\n",
    "players['team'] = players['team'].replace('FaZe', 'FaZe Clan')\n",
    "players['team'] = players['team'].replace('Falcons', 'Team Falcons')\n",
    "players['team'] = players['team'].replace('G2', 'G2 Esports')\n",
    "players['team'] = players['team'].replace('Legacy', 'LEGACY')\n",
    "players['team'] = players['team'].replace('Liquid', 'Team Liquid')\n",
    "players['team'] = players['team'].replace('Lynn Vision', 'Lynn Vision Gaming')\n",
    "players['team'] = players['team'].replace('Vitality', 'Team Vitality')"
   ],
   "id": "2870288de92c29f7",
   "outputs": [],
   "execution_count": 4
  },
  {
   "metadata": {},
   "cell_type": "markdown",
   "source": "Now, we check for differences:",
   "id": "85c8870473ab5888"
  },
  {
   "metadata": {
    "ExecuteTime": {
     "end_time": "2025-06-22T18:02:16.567373Z",
     "start_time": "2025-06-22T18:02:16.555546Z"
    }
   },
   "cell_type": "code",
   "source": [
    "teams_team_names = teams['team_name'].unique()\n",
    "demos_team_names = demos['team_name'].unique()\n",
    "players_team_names = players['team'].unique()\n",
    "\n",
    "union_ser = pd.Series(np.union1d(teams_team_names, demos_team_names))\n",
    "intersection_ser = pd.Series(np.intersect1d(teams_team_names, demos_team_names))\n",
    "differences = union_ser[~union_ser.isin(intersection_ser)]\n",
    "\n",
    "len(differences)"
   ],
   "id": "b967906d0b901c60",
   "outputs": [
    {
     "data": {
      "text/plain": [
       "0"
      ]
     },
     "execution_count": 5,
     "metadata": {},
     "output_type": "execute_result"
    }
   ],
   "execution_count": 5
  },
  {
   "metadata": {},
   "cell_type": "markdown",
   "source": "As you can see, there are no more differences.",
   "id": "5fb479852368aa"
  },
  {
   "metadata": {},
   "cell_type": "markdown",
   "source": [
    "### Player Names\n",
    "\n",
    "If we read the list of player names in the `players.csv` and `demos.csv` files, they differ from each other:\n"
   ],
   "id": "9510c79609b49d87"
  },
  {
   "metadata": {
    "ExecuteTime": {
     "end_time": "2025-06-22T18:11:22.777219Z",
     "start_time": "2025-06-22T18:11:22.768085Z"
    }
   },
   "cell_type": "code",
   "source": [
    "demos_player_names = demos['player_name'].unique()\n",
    "players_player_names = players['name'].unique()\n",
    "\n",
    "union_ser = pd.Series(np.union1d(players_player_names, demos_player_names))\n",
    "intersection_ser = pd.Series(np.intersect1d(players_player_names, demos_player_names))\n",
    "differences = union_ser[~union_ser.isin(intersection_ser)]\n",
    "\n",
    "differences"
   ],
   "id": "8e10f881ea25b79",
   "outputs": [
    {
     "data": {
      "text/plain": [
       "0           910\n",
       "1          910-\n",
       "11     HeavyGoD\n",
       "12     HeavyGod\n",
       "22       Mzinho\n",
       "29       Skullz\n",
       "36       Techno\n",
       "37     Techno4K\n",
       "39    Westmelon\n",
       "63       mzinho\n",
       "74       skullz\n",
       "78    westmelon\n",
       "84         z4KR\n",
       "85         z4kr\n",
       "dtype: object"
      ]
     },
     "execution_count": 20,
     "metadata": {},
     "output_type": "execute_result"
    }
   ],
   "execution_count": 20
  },
  {
   "metadata": {},
   "cell_type": "markdown",
   "source": "To determine which names are equivalent to which, we make a DataFrame:",
   "id": "3f596dbe6aedf38e"
  },
  {
   "metadata": {
    "ExecuteTime": {
     "end_time": "2025-06-22T18:11:08.575263Z",
     "start_time": "2025-06-22T18:11:08.565110Z"
    }
   },
   "cell_type": "code",
   "source": [
    "demos_player_names = pd.Series(demos['player_name'].unique())\n",
    "players_player_names = pd.Series(players['name'].unique())\n",
    "\n",
    "demos_player_names = demos_player_names[demos_player_names.isin(differences)]\n",
    "players_player_names = players_player_names[players_player_names.isin(differences)]\n",
    "\n",
    "pd.DataFrame({'demos': demos_player_names, 'players': players_player_names})"
   ],
   "id": "24936fc399c99d0",
   "outputs": [
    {
     "data": {
      "text/plain": [
       "        demos    players\n",
       "7      Skullz        NaN\n",
       "17        NaN     Techno\n",
       "18        NaN     mzinho\n",
       "19        NaN        910\n",
       "33        NaN   HeavyGod\n",
       "50   HeavyGoD        NaN\n",
       "51        NaN     skullz\n",
       "52       z4KR        NaN\n",
       "56  westmelon        NaN\n",
       "62        NaN  Westmelon\n",
       "64        NaN       z4kr\n",
       "66       910-        NaN\n",
       "67   Techno4K        NaN\n",
       "68     Mzinho        NaN"
      ],
      "text/html": [
       "<div>\n",
       "<style scoped>\n",
       "    .dataframe tbody tr th:only-of-type {\n",
       "        vertical-align: middle;\n",
       "    }\n",
       "\n",
       "    .dataframe tbody tr th {\n",
       "        vertical-align: top;\n",
       "    }\n",
       "\n",
       "    .dataframe thead th {\n",
       "        text-align: right;\n",
       "    }\n",
       "</style>\n",
       "<table border=\"1\" class=\"dataframe\">\n",
       "  <thead>\n",
       "    <tr style=\"text-align: right;\">\n",
       "      <th></th>\n",
       "      <th>demos</th>\n",
       "      <th>players</th>\n",
       "    </tr>\n",
       "  </thead>\n",
       "  <tbody>\n",
       "    <tr>\n",
       "      <th>7</th>\n",
       "      <td>Skullz</td>\n",
       "      <td>NaN</td>\n",
       "    </tr>\n",
       "    <tr>\n",
       "      <th>17</th>\n",
       "      <td>NaN</td>\n",
       "      <td>Techno</td>\n",
       "    </tr>\n",
       "    <tr>\n",
       "      <th>18</th>\n",
       "      <td>NaN</td>\n",
       "      <td>mzinho</td>\n",
       "    </tr>\n",
       "    <tr>\n",
       "      <th>19</th>\n",
       "      <td>NaN</td>\n",
       "      <td>910</td>\n",
       "    </tr>\n",
       "    <tr>\n",
       "      <th>33</th>\n",
       "      <td>NaN</td>\n",
       "      <td>HeavyGod</td>\n",
       "    </tr>\n",
       "    <tr>\n",
       "      <th>50</th>\n",
       "      <td>HeavyGoD</td>\n",
       "      <td>NaN</td>\n",
       "    </tr>\n",
       "    <tr>\n",
       "      <th>51</th>\n",
       "      <td>NaN</td>\n",
       "      <td>skullz</td>\n",
       "    </tr>\n",
       "    <tr>\n",
       "      <th>52</th>\n",
       "      <td>z4KR</td>\n",
       "      <td>NaN</td>\n",
       "    </tr>\n",
       "    <tr>\n",
       "      <th>56</th>\n",
       "      <td>westmelon</td>\n",
       "      <td>NaN</td>\n",
       "    </tr>\n",
       "    <tr>\n",
       "      <th>62</th>\n",
       "      <td>NaN</td>\n",
       "      <td>Westmelon</td>\n",
       "    </tr>\n",
       "    <tr>\n",
       "      <th>64</th>\n",
       "      <td>NaN</td>\n",
       "      <td>z4kr</td>\n",
       "    </tr>\n",
       "    <tr>\n",
       "      <th>66</th>\n",
       "      <td>910-</td>\n",
       "      <td>NaN</td>\n",
       "    </tr>\n",
       "    <tr>\n",
       "      <th>67</th>\n",
       "      <td>Techno4K</td>\n",
       "      <td>NaN</td>\n",
       "    </tr>\n",
       "    <tr>\n",
       "      <th>68</th>\n",
       "      <td>Mzinho</td>\n",
       "      <td>NaN</td>\n",
       "    </tr>\n",
       "  </tbody>\n",
       "</table>\n",
       "</div>"
      ]
     },
     "execution_count": 18,
     "metadata": {},
     "output_type": "execute_result"
    }
   ],
   "execution_count": 18
  },
  {
   "metadata": {},
   "cell_type": "markdown",
   "source": [
    "From here, we can see the following that need to change:\n",
    "\n",
    "- `910` -> `910-`\n",
    "- `HeavyGod` -> `HeavyGoD`\n",
    "- `mzinho` -> `mzinho`\n",
    "- `skullz` -> `Skullz`\n",
    "- `Techno` -> `Techno4K`\n",
    "- `Westmelon` -> `westmelon`\n",
    "- `z4kr` -> `z4KR`\n",
    "\n",
    "Now we can fix this:"
   ],
   "id": "57db4af519978aeb"
  },
  {
   "metadata": {
    "ExecuteTime": {
     "end_time": "2025-06-22T18:16:36.882107Z",
     "start_time": "2025-06-22T18:16:36.874946Z"
    }
   },
   "cell_type": "code",
   "source": [
    "players['name'] = players['name'].replace('910', '910-')\n",
    "players['name'] = players['name'].replace('HeavyGod', 'HeavyGoD')\n",
    "players['name'] = players['name'].replace('mzinho', 'Mzinho')\n",
    "players['name'] = players['name'].replace('skullz', 'Skullz')\n",
    "players['name'] = players['name'].replace('Techno', 'Techno4K')\n",
    "players['name'] = players['name'].replace('Westmelon', 'westmelon')\n",
    "players['name'] = players['name'].replace('z4kr', 'z4KR')"
   ],
   "id": "ff4a81d9d5d9050d",
   "outputs": [],
   "execution_count": 26
  },
  {
   "metadata": {
    "ExecuteTime": {
     "end_time": "2025-06-22T18:16:54.205197Z",
     "start_time": "2025-06-22T18:16:54.197150Z"
    }
   },
   "cell_type": "code",
   "source": [
    "demos_player_names = demos['player_name'].unique()\n",
    "players_player_names = players['name'].unique()\n",
    "\n",
    "union_ser = pd.Series(np.union1d(players_player_names, demos_player_names))\n",
    "intersection_ser = pd.Series(np.intersect1d(players_player_names, demos_player_names))\n",
    "differences = union_ser[~union_ser.isin(intersection_ser)]\n",
    "\n",
    "len(differences)"
   ],
   "id": "a4f8dc1d3bec611e",
   "outputs": [
    {
     "data": {
      "text/plain": [
       "0"
      ]
     },
     "execution_count": 28,
     "metadata": {},
     "output_type": "execute_result"
    }
   ],
   "execution_count": 28
  },
  {
   "metadata": {},
   "cell_type": "markdown",
   "source": "Now we can see there are no differences.",
   "id": "2a9992fa94bc109c"
  },
  {
   "metadata": {},
   "cell_type": "markdown",
   "source": [
    "## Player loadouts\n",
    "\n",
    "Player loadouts are encoded as comma-separated lists, so we turn it into an array. In addition, we need to remove knives,\n",
    "as it is impossible to drop knives in the game, and different knife skins (cosmetics) are counted as unique items rather\n",
    "than the same one, even if there is no gameplay effect.\n",
    "\n",
    "First, we convert to list and get a list of knives:"
   ],
   "id": "cd593bff79f8b34b"
  },
  {
   "metadata": {
    "ExecuteTime": {
     "end_time": "2025-06-22T18:34:49.315175Z",
     "start_time": "2025-06-22T18:34:48.663957Z"
    }
   },
   "cell_type": "code",
   "source": [
    "demos['player_loadout_array'] = demos['player_loadout'].str.split(', ')\n",
    "unique_items = demos['player_loadout_array'].explode().unique().tolist()\n",
    "knives = [i for i in unique_items if\n",
    "          \"knife\" in i.lower() or\n",
    "          \"daggers\" in i.lower() or\n",
    "          \"bayonet\" in i.lower() or\n",
    "          \"karambit\" in i.lower()]\n",
    "\n",
    "knives"
   ],
   "id": "2394abf18bd0b058",
   "outputs": [
    {
     "data": {
      "text/plain": [
       "['Butterfly Knife',\n",
       " 'Talon Knife',\n",
       " 'M9 Bayonet',\n",
       " 'Karambit',\n",
       " 'Shadow Daggers',\n",
       " 'Skeleton Knife',\n",
       " 'Flip Knife',\n",
       " 'Bayonet',\n",
       " 'Survival Knife',\n",
       " 'Nomad Knife',\n",
       " 'Stiletto Knife',\n",
       " 'knife_t',\n",
       " 'knife',\n",
       " 'Ursus Knife']"
      ]
     },
     "execution_count": 51,
     "metadata": {},
     "output_type": "execute_result"
    }
   ],
   "execution_count": 51
  },
  {
   "metadata": {},
   "cell_type": "markdown",
   "source": "Now, we filter:",
   "id": "ff70cd57c2c435ac"
  },
  {
   "metadata": {
    "ExecuteTime": {
     "end_time": "2025-06-22T18:34:52.021410Z",
     "start_time": "2025-06-22T18:34:51.976630Z"
    }
   },
   "cell_type": "code",
   "source": [
    "demos['player_loadout_array'] = demos['player_loadout_array'].apply(lambda l: [i for i in l if i not in knives])\n",
    "demos['player_loadout_array'].head(10)"
   ],
   "id": "21f530cda5d8ebf3",
   "outputs": [
    {
     "data": {
      "text/plain": [
       "0              [Glock-18, C4 Explosive]\n",
       "1    [Glock-18, Smoke Grenade, Molotov]\n",
       "2                            [Glock-18]\n",
       "3      [P250, Smoke Grenade, Flashbang]\n",
       "4                               [USP-S]\n",
       "5                [P2000, Smoke Grenade]\n",
       "6                       [Dual Berettas]\n",
       "7                               [USP-S]\n",
       "8                    [USP-S, Flashbang]\n",
       "9                            [Glock-18]\n",
       "Name: player_loadout_array, dtype: object"
      ]
     },
     "execution_count": 52,
     "metadata": {},
     "output_type": "execute_result"
    }
   ],
   "execution_count": 52
  },
  {
   "metadata": {},
   "cell_type": "markdown",
   "source": "Now, it is clean.",
   "id": "d1be4c058c5d3991"
  },
  {
   "metadata": {},
   "cell_type": "markdown",
   "source": [
    "## AI Declaration\n",
    "Statement: During the preparation of this work the author(s) used ChatGPT, and GitHub Copilot for the following purposes:\n",
    "\n",
    "- Learn more about Pandas library\n",
    "\n",
    "After using this tool/service, the author(s) reviewed and edited the content as needed and take(s) full responsibility for the content of the publication."
   ],
   "id": "2d1566e58c278840"
  }
 ],
 "metadata": {
  "kernelspec": {
   "display_name": "Python 3",
   "language": "python",
   "name": "python3"
  },
  "language_info": {
   "codemirror_mode": {
    "name": "ipython",
    "version": 2
   },
   "file_extension": ".py",
   "mimetype": "text/x-python",
   "name": "python",
   "nbconvert_exporter": "python",
   "pygments_lexer": "ipython2",
   "version": "2.7.6"
  }
 },
 "nbformat": 4,
 "nbformat_minor": 5
}
