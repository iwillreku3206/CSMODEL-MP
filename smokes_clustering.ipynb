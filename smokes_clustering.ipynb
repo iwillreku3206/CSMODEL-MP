{
 "cells": [
  {
   "cell_type": "code",
   "execution_count": 4,
   "id": "40165fe8",
   "metadata": {},
   "outputs": [],
   "source": [
    "import pandas as pd\n",
    "import numpy as np\n",
    "\n",
    "from demoparser2 import DemoParser\n",
    "\n",
    "from sklearn.cluster import DBSCAN\n",
    "from sklearn.neighbors import NearestNeighbors\n",
    "from matplotlib import pyplot as plt\n",
    "from kneed import KneeLocator\n",
    "\n",
    "import matplotlib.pyplot as plt\n",
    "from mpl_toolkits.mplot3d import Axes3D\n",
    "\n",
    "from mlxtend.preprocessing import TransactionEncoder\n",
    "from mlxtend.frequent_patterns import apriori, association_rules\n",
    "\n",
    "from scipy.stats import chi2_contingency\n",
    "\n"
   ]
  },
  {
   "cell_type": "code",
   "execution_count": 5,
   "id": "cab2feab",
   "metadata": {},
   "outputs": [],
   "source": [
    "\n",
    "# MAP_NAME = strings of maps (de_ancient, de_mirage, de_inferno, de_overpass, de_nuke, de_vertigo)\n",
    "# side = 'T' or 'CT' (team name)\n",
    "def smoke_df(MAP_NAME, side):\n",
    "    \n",
    "    df = pd.read_csv(\"IEM_DALLAS_2025_SMOKES.csv\")  \n",
    "    main_df = df.loc[df['map_name'] == MAP_NAME]\n",
    "    t_smokes_df = main_df.loc[main_df['team_name'] == side]\n",
    "\n",
    "    return t_smokes_df\n",
    "\n"
   ]
  },
  {
   "cell_type": "code",
   "execution_count": 6,
   "id": "e49fa714",
   "metadata": {},
   "outputs": [],
   "source": [
    "# How to use: this function takes coordinates from df input and runs DBSCAN clustering on them.\n",
    "# It returns the df with a new column 'cluster' that contains the cluster labels.\n",
    "def smoke_clustering_dbscan(df):\n",
    "    # Extract coordinates from the DataFrame\n",
    "    coords = df[['x', 'y', 'z']].values\n",
    "\n",
    "    # Run DBSCAN\n",
    "    smoke_radius = 150\n",
    "    dimensions = 3 # 3D coordinates (x, y, z)\n",
    "    convention = dimensions * 2 # standard convention for min_samples in DBSCAN\n",
    "    temp = DBSCAN(eps=smoke_radius, min_samples=convention).fit(coords)\n",
    "    \n",
    "    # Assign labels to the DataFrame\n",
    "    df['cluster'] = temp.labels_\n",
    "    return df\n",
    "\n",
    "\n"
   ]
  },
  {
   "cell_type": "code",
   "execution_count": 7,
   "id": "e5a5768e",
   "metadata": {},
   "outputs": [],
   "source": [
    "def plot_smoke_clusters_in_2d(main_df):\n",
    "    plt.figure(figsize=(10, 8))\n",
    "    \n",
    "    for label in sorted(main_df['cluster'].unique()):\n",
    "        cluster_df = main_df[main_df['cluster'] == label]\n",
    "        color = 'k' if label == -1 else None\n",
    "        \n",
    "        # Plot points\n",
    "        plt.scatter(cluster_df['x'], cluster_df['y'],\n",
    "                    label=f'Cluster {label}' if label != -1 else 'Noise',\n",
    "                    s=40, alpha=0.7, edgecolors='w', c=color)\n",
    "        \n",
    "        # Add label at centroid for each cluster (except noise)\n",
    "        if label != -1:\n",
    "            cx = cluster_df['x'].mean() - 100\n",
    "            cy = cluster_df['y'].mean() - 100\n",
    "            plt.text(cx, cy, str(label), fontsize=12, weight='bold',\n",
    "                     ha='center', va='center', color='black',\n",
    "                     bbox=dict(facecolor='white', edgecolor='black', boxstyle='round,pad=0.3'))\n",
    "\n",
    "    plt.xlabel(\"X (map units)\")\n",
    "    plt.ylabel(\"Y (map units)\")\n",
    "    plt.title(\"Top-Down 2D View of 3D Smoke Clusters\")\n",
    "    plt.grid(True)\n",
    "    plt.axis(\"equal\")\n",
    "    plt.show()"
   ]
  },
  {
   "cell_type": "code",
   "execution_count": 8,
   "id": "3249e397",
   "metadata": {},
   "outputs": [],
   "source": [
    "\n",
    "# to be used for inference test later (WIP)\n",
    "def get_round_wins_df(map_name, side):\n",
    "\n",
    "    main_stats_df = pd.read_csv(\"demos.csv\")\n",
    "    if side == 'T':\n",
    "        main_stats_df['is_T'] = (main_stats_df['round_ct_team'] != main_stats_df['team_name'])\n",
    "        main_stats_df = main_stats_df[main_stats_df['is_T']]\n",
    "    else:\n",
    "        main_stats_df['is_CT'] = (main_stats_df['round_ct_team'] == main_stats_df['team_name'])\n",
    "        main_stats_df = main_stats_df[main_stats_df['is_CT']]\n",
    "\n",
    "\n",
    "    main_stats_df['is_win'] = (main_stats_df['round_result'] == 'CT') & (main_stats_df['round_ct_team'] == main_stats_df['team_name']) | (main_stats_df['round_result'] == 'T') & (main_stats_df['round_ct_team'] != main_stats_df['team_name'])\n",
    "    round_wins = main_stats_df.drop_duplicates(subset=['team_name', 'round_number', 'is_win'])\n",
    "\n",
    "    round_wins = round_wins[['team_name', 'round_id','round_number', 'is_win', 'map_name']]\n",
    "\n",
    "    wins_df = round_wins[round_wins['map_name'] == map_name]\n",
    "    \n",
    "  \n",
    "    return wins_df\n",
    "\n",
    "\n",
    "\n"
   ]
  },
  {
   "cell_type": "code",
   "execution_count": 75,
   "id": "0e5c79e1",
   "metadata": {},
   "outputs": [],
   "source": [
    "# Create baskets for association rule mining\n",
    "# Each basket contains clusters of smokes thrown in a round, with the win/loss as consequence.\n",
    "def create_baskets(df):\n",
    "    filtered_df = df[df['cluster'] != -1].copy()\n",
    "    filtered_df = filtered_df.sort_values(by=['mapid', 'matchid', 'round_number', 'round_tick'])\n",
    "\n",
    "    baskets = []\n",
    "\n",
    "    # We group this because we want to create a basket for each smoke throwm in a round\n",
    "    for _, round_df in filtered_df.groupby(['mapid', 'matchid', 'round_number']):\n",
    "        round_df = round_df.reset_index(drop=True)\n",
    "\n",
    "        for i in range(len(round_df)):\n",
    "            base_tick = round_df.loc[i, 'round_tick']\n",
    "            win_label = 'win' if round_df.loc[i, 'is_win'] else 'loss'\n",
    "\n",
    "            # Get smokes within 640 ticks from this throw, 640 ticks is 10 seconds in CS2\n",
    "            temp = (round_df['round_tick'] >= base_tick) & (round_df['round_tick'] <= base_tick + 640)\n",
    "            clusters_in_window = round_df.loc[temp, 'cluster'].unique().tolist()\n",
    "\n",
    "            if len(clusters_in_window) > 0:\n",
    "                basket = [str(c) for c in clusters_in_window] + [win_label]\n",
    "\n",
    "                baskets.append(basket)\n",
    "    print(baskets)\n",
    "    return baskets"
   ]
  },
  {
   "cell_type": "code",
   "execution_count": 10,
   "id": "9321dd58",
   "metadata": {},
   "outputs": [],
   "source": [
    "def association_rule_mining(baskets):\n",
    "    # Special thanks to https://rasbt.github.io/mlxtend/user_guide/preprocessing/TransactionEncoder/ and \n",
    "    # https://www.geeksforgeeks.org/machine-learning/implementing-apriori-algorithm-in-python/ for the guide on ARM\n",
    "    te = TransactionEncoder()\n",
    "    te_ary = te.fit(baskets).transform(baskets)\n",
    "    basket_df = pd.DataFrame(te_ary, columns=te.columns_)\n",
    "\n",
    "    frequent_itemsets = apriori(basket_df, min_support=0.05, use_colnames=True)\n",
    "    rules = association_rules(frequent_itemsets, metric=\"confidence\", min_threshold=0.6)\n",
    "\n",
    "    # Filtering for rules where 'win' is the consequence\n",
    "    win_rules = rules[rules['consequents'] == {'win'}]\n",
    "    \n",
    "    # Display the top rules\n",
    "    print(win_rules[['antecedents', 'consequents', 'support', 'confidence', 'lift']])\n",
    "    return win_rules\n",
    "    "
   ]
  },
  {
   "cell_type": "code",
   "execution_count": 12,
   "id": "479840de",
   "metadata": {},
   "outputs": [],
   "source": [
    "MAP_NAME = 'de_ancient' # You can change this to any map name you want to analyze\n",
    "SIDE = 'T'  # 'T' or 'CT'"
   ]
  },
  {
   "cell_type": "code",
   "execution_count": 79,
   "id": "7ff01a7f",
   "metadata": {},
   "outputs": [
    {
     "name": "stdout",
     "output_type": "stream",
     "text": [
      "[['0', 'loss'], ['1', '2', 'win'], ['2', 'win'], ['1', '2', 'win'], ['2', 'win'], ['2', '3', 'win'], ['3', 'win'], ['1', '2', 'win'], ['2', 'win'], ['4', 'win'], ['4', 'win'], ['1', 'loss'], ['2', 'loss'], ['4', 'loss'], ['1', '5', 'win'], ['5', 'win'], ['3', 'win'], ['1', '5', 'loss'], ['5', 'loss'], ['0', '3', 'loss'], ['3', 'loss'], ['1', '5', 'win'], ['5', 'win'], ['3', 'win'], ['6', 'win'], ['1', 'win'], ['5', '3', 'win'], ['3', 'win'], ['3', 'win'], ['1', '5', 'win'], ['5', 'win'], ['1', '5', '6', 'win'], ['5', '6', 'win'], ['6', 'win'], ['1', 'win'], ['1', 'win'], ['5', '6', 'loss'], ['6', 'loss'], ['3', 'loss'], ['3', 'loss'], ['6', 'loss'], ['1', 'loss'], ['0', 'loss'], ['1', 'win'], ['5', 'win'], ['1', '5', 'win'], ['5', 'win'], ['1', 'win'], ['3', 'win'], ['3', 'win'], ['1', 'win'], ['2', 'win'], ['4', '0', 'win'], ['0', 'win'], ['1', '2', 'win'], ['2', 'win'], ['0', 'win'], ['1', 'win'], ['2', 'win'], ['4', '0', 'win'], ['0', 'win'], ['1', '2', 'win'], ['2', 'win'], ['0', 'win'], ['3', 'win'], ['1', '6', 'win'], ['6', '2', 'win'], ['2', 'win'], ['0', 'win'], ['1', '6', '5', 'loss'], ['6', '5', 'loss'], ['5', 'loss'], ['1', 'loss'], ['0', 'loss'], ['1', '6', '5', 'loss'], ['6', '5', 'loss'], ['5', 'loss'], ['4', '0', 'loss'], ['0', 'loss'], ['1', '5', '6', 'loss'], ['5', '6', 'loss'], ['6', 'loss'], ['2', 'loss'], ['3', 'loss'], ['1', 'loss'], ['0', 'loss'], ['0', 'loss'], ['1', '6', 'win'], ['6', 'win'], ['2', 'win'], ['0', 'win'], ['1', 'win'], ['1', 'win'], ['2', 'win'], ['3', 'win'], ['1', '2', 'loss'], ['2', 'loss'], ['1', '2', '6', 'win'], ['2', '6', 'win'], ['6', 'win'], ['1', '3', 'win'], ['3', 'win'], ['1', '5', '6', 'win'], ['5', '6', 'win'], ['6', 'win'], ['1', '2', '6', 'loss'], ['2', '6', 'loss'], ['6', 'loss'], ['3', 'loss'], ['1', '5', 'loss'], ['5', 'loss'], ['1', '2', 'win'], ['2', 'win'], ['0', '4', 'win'], ['4', 'win'], ['1', '5', '6', 'win'], ['5', '6', 'win'], ['6', 'win'], ['2', 'win'], ['1', '2', '5', 'win'], ['2', '5', 'win'], ['5', 'win'], ['1', '2', 'loss'], ['2', 'loss'], ['2', 'loss'], ['3', 'loss'], ['3', 'loss'], ['1', '5', 'win'], ['5', 'win'], ['0', '4', 'win'], ['4', 'win'], ['1', 'win'], ['3', 'win'], ['1', '5', 'loss'], ['5', 'loss'], ['1', 'loss'], ['3', 'loss']]\n"
     ]
    },
    {
     "data": {
      "image/png": "[encoded data removed]",
      "text/plain": [
       "<Figure size 1000x800 with 1 Axes>"
      ]
     },
     "metadata": {},
     "output_type": "display_data"
    },
    {
     "name": "stdout",
     "output_type": "stream",
     "text": [
      "[['0', 'loss'], ['1', '2', 'win'], ['2', 'win'], ['1', '2', 'win'], ['2', 'win'], ['2', '3', 'win'], ['3', 'win'], ['1', '2', 'win'], ['2', 'win'], ['4', 'win'], ['4', 'win'], ['1', 'loss'], ['2', 'loss'], ['4', 'loss'], ['1', '5', 'win'], ['5', 'win'], ['3', 'win'], ['1', '5', 'loss'], ['5', 'loss'], ['0', '3', 'loss'], ['3', 'loss'], ['1', '5', 'win'], ['5', 'win'], ['3', 'win'], ['6', 'win'], ['1', 'win'], ['5', '3', 'win'], ['3', 'win'], ['3', 'win'], ['1', '5', 'win'], ['5', 'win'], ['1', '5', '6', 'win'], ['5', '6', 'win'], ['6', 'win'], ['1', 'win'], ['1', 'win'], ['5', '6', 'loss'], ['6', 'loss'], ['3', 'loss'], ['3', 'loss'], ['6', 'loss'], ['1', 'loss'], ['0', 'loss'], ['1', 'win'], ['5', 'win'], ['1', '5', 'win'], ['5', 'win'], ['1', 'win'], ['3', 'win'], ['3', 'win'], ['1', 'win'], ['2', 'win'], ['4', '0', 'win'], ['0', 'win'], ['1', '2', 'win'], ['2', 'win'], ['0', 'win'], ['1', 'win'], ['2', 'win'], ['4', '0', 'win'], ['0', 'win'], ['1', '2', 'win'], ['2', 'win'], ['0', 'win'], ['3', 'win'], ['1', '6', 'win'], ['6', '2', 'win'], ['2', 'win'], ['0', 'win'], ['1', '6', '5', 'loss'], ['6', '5', 'loss'], ['5', 'loss'], ['1', 'loss'], ['0', 'loss'], ['1', '6', '5', 'loss'], ['6', '5', 'loss'], ['5', 'loss'], ['4', '0', 'loss'], ['0', 'loss'], ['1', '5', '6', 'loss'], ['5', '6', 'loss'], ['6', 'loss'], ['2', 'loss'], ['3', 'loss'], ['1', 'loss'], ['0', 'loss'], ['0', 'loss'], ['1', '6', 'win'], ['6', 'win'], ['2', 'win'], ['0', 'win'], ['1', 'win'], ['1', 'win'], ['2', 'win'], ['3', 'win'], ['1', '2', 'loss'], ['2', 'loss'], ['1', '2', '6', 'win'], ['2', '6', 'win'], ['6', 'win'], ['1', '3', 'win'], ['3', 'win'], ['1', '5', '6', 'win'], ['5', '6', 'win'], ['6', 'win'], ['1', '2', '6', 'loss'], ['2', '6', 'loss'], ['6', 'loss'], ['3', 'loss'], ['1', '5', 'loss'], ['5', 'loss'], ['1', '2', 'win'], ['2', 'win'], ['0', '4', 'win'], ['4', 'win'], ['1', '5', '6', 'win'], ['5', '6', 'win'], ['6', 'win'], ['2', 'win'], ['1', '2', '5', 'win'], ['2', '5', 'win'], ['5', 'win'], ['1', '2', 'loss'], ['2', 'loss'], ['2', 'loss'], ['3', 'loss'], ['3', 'loss'], ['1', '5', 'win'], ['5', 'win'], ['0', '4', 'win'], ['4', 'win'], ['1', 'win'], ['3', 'win'], ['1', '5', 'loss'], ['5', 'loss'], ['1', 'loss'], ['3', 'loss']]\n",
      "  antecedents consequents   support  confidence      lift\n",
      "0         (1)       (win)  0.211679    0.674419  1.062016\n",
      "1         (2)       (win)  0.175182    0.727273  1.145246\n",
      "2         (3)       (win)  0.102190    0.608696  0.958521\n",
      "3         (4)       (win)  0.058394    0.800000  1.259770\n",
      "4      (1, 2)       (win)  0.058394    0.727273  1.145246\n",
      "5      (1, 5)       (win)  0.065693    0.600000  0.944828\n"
     ]
    }
   ],
   "source": [
    "\n",
    "\n",
    "main_df = smoke_df(MAP_NAME, SIDE)\n",
    "\n",
    "main_df = smoke_clustering_dbscan(main_df)\n",
    "baskets = create_baskets(main_df)\n",
    "main_df = main_df[main_df['cluster'] != -1]  # Filter out noise clusters\n",
    "plot_smoke_clusters_in_2d(main_df)\n",
    "\n",
    "baskets = create_baskets(main_df)\n",
    "win_rules = association_rule_mining(baskets)\n",
    "\n",
    "\n"
   ]
  },
  {
   "cell_type": "code",
   "execution_count": 55,
   "id": "b0b8ae22",
   "metadata": {},
   "outputs": [],
   "source": [
    "# This creates the count columns for clusters which will be used for the chi-squared test\n",
    "def create_binary_columns_for_clusters(main_df, win_rules, MAP_NAME, SIDE):\n",
    "    # Add columns for each cluster\n",
    "    temp_df = pd.crosstab(main_df['round_id'], main_df['cluster'])\n",
    "    main_df = pd.merge(main_df, temp_df, on='round_id', how='inner')\n",
    "\n",
    "    all_clusters = sorted(main_df['cluster'].unique())\n",
    "\n",
    "    # We drop useless columns and duplicates\n",
    "    for c in all_clusters:\n",
    "        main_df.rename(columns={c: f'cluster_{c}'}, inplace=True)\n",
    "        main_df.drop_duplicates(subset=['round_id', f'cluster_{c}'], inplace=True)\n",
    "        main_df.drop(columns=['tick', 'user_name'])  # Ensure no duplicates in columns\n",
    "        main_df.loc[main_df[f'cluster_{c}'] > 0, f'cluster_{c}'] = 1 # This is to ensure that we have binary columns for clusters not counts\n",
    "\n",
    "\n",
    "    return main_df"
   ]
  },
  {
   "cell_type": "code",
   "execution_count": 72,
   "id": "e3801acf",
   "metadata": {},
   "outputs": [],
   "source": [
    "def get_chi_squared_test(round_df, all_clusters):  \n",
    "    # We do a chi-squared test for each cluster\n",
    "    for c in all_clusters:\n",
    "        contingency = pd.crosstab(round_df[f'cluster_{c}'], round_df['is_win']) # This makes it so that we can see the frequency of each cluster in winning and losing rounds\n",
    "        chi2, p, _, _ = chi2_contingency(contingency, correction=False)\n",
    "        print(f\"Cluster {c} → p = {p:.9f}, X^2={chi2:.9f}\")\n",
    " \n",
    "       \n",
    "\n",
    "\n"
   ]
  },
  {
   "cell_type": "code",
   "execution_count": null,
   "id": "df507273",
   "metadata": {},
   "outputs": [
    {
     "data": {
      "text/html": [
       "<div>\n",
       "<style scoped>\n",
       "    .dataframe tbody tr th:only-of-type {\n",
       "        vertical-align: middle;\n",
       "    }\n",
       "\n",
       "    .dataframe tbody tr th {\n",
       "        vertical-align: top;\n",
       "    }\n",
       "\n",
       "    .dataframe thead th {\n",
       "        text-align: right;\n",
       "    }\n",
       "</style>\n",
       "<table border=\"1\" class=\"dataframe\">\n",
       "  <thead>\n",
       "    <tr style=\"text-align: right;\">\n",
       "      <th>is_win</th>\n",
       "      <th>False</th>\n",
       "      <th>True</th>\n",
       "    </tr>\n",
       "    <tr>\n",
       "      <th>cluster</th>\n",
       "      <th></th>\n",
       "      <th></th>\n",
       "    </tr>\n",
       "  </thead>\n",
       "  <tbody>\n",
       "    <tr>\n",
       "      <th>1</th>\n",
       "      <td>14</td>\n",
       "      <td>29</td>\n",
       "    </tr>\n",
       "  </tbody>\n",
       "</table>\n",
       "</div>"
      ],
      "text/plain": [
       "is_win   False  True \n",
       "cluster              \n",
       "1           14     29"
      ]
     },
     "execution_count": 53,
     "metadata": {},
     "output_type": "execute_result"
    }
   ],
   "source": []
  },
  {
   "cell_type": "code",
   "execution_count": 77,
   "id": "81d852a0",
   "metadata": {},
   "outputs": [
    {
     "name": "stdout",
     "output_type": "stream",
     "text": [
      "is_win     False  True \n",
      "cluster_1              \n",
      "0              5      0\n",
      "1             12     26\n",
      "Cluster 0 → p = 0.756871055, X^2=0.095847358\n",
      "Cluster 1 → p = 0.003264784, X^2=8.653250774\n",
      "Cluster 2 → p = 0.114684648, X^2=2.488449631\n",
      "Cluster 3 → p = 0.663424295, X^2=0.189390607\n",
      "Cluster 4 → p = 0.516732298, X^2=0.420410472\n",
      "Cluster 5 → p = 0.941394843, X^2=0.005404726\n",
      "Cluster 6 → p = 0.558967241, X^2=0.341495533\n"
     ]
    }
   ],
   "source": [
    "for_chi_squared_test = create_binary_columns_for_clusters(main_df, win_rules, MAP_NAME, SIDE)\n",
    "#for_chi_squared_test\n",
    "c = 1\n",
    "contingency = pd.crosstab(for_chi_squared_test[f'cluster_{c}'], for_chi_squared_test['is_win'])\n",
    "print(contingency)\n",
    "\n",
    "get_chi_squared_test(for_chi_squared_test, sorted(main_df['cluster'].unique()))"
   ]
  },
  {
   "cell_type": "markdown",
   "id": "3f3e2b01",
   "metadata": {},
   "source": []
  },
  {
   "cell_type": "code",
   "execution_count": 386,
   "id": "c89b9c9b",
   "metadata": {},
   "outputs": [],
   "source": [
    "# PLEASE READ THRU THE DOCS AND CODE, message me if there's errors - nTony\n"
   ]
  }
 ],
 "metadata": {
  "kernelspec": {
   "display_name": "Python 3",
   "language": "python",
   "name": "python3"
  },
  "language_info": {
   "codemirror_mode": {
    "name": "ipython",
    "version": 3
   },
   "file_extension": ".py",
   "mimetype": "text/x-python",
   "name": "python",
   "nbconvert_exporter": "python",
   "pygments_lexer": "ipython3",
   "version": "3.13.0"
  }
 },
 "nbformat": 4,
 "nbformat_minor": 5
}
