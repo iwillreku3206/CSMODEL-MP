{
 "cells": [
  {
   "cell_type": "code",
   "execution_count": 9,
   "id": "initial_id",
   "metadata": {
    "collapsed": true
   },
   "outputs": [],
   "source": [
    "import pandas as pd\n",
    "import numpy as np\n",
    "import matplotlib as plt"
   ]
  },
  {
   "cell_type": "markdown",
   "id": "5aeee2a603b94ee3",
   "metadata": {},
   "source": [
    "# Column Information\n",
    "\n",
    "The following columns are in our datasets:\n",
    "\n",
    "## `iem_dallas_player_rounds.csv`\n",
    "- `col_name`: `type` - Description\n",
    "\n",
    "## `iem_dallas_players`\n",
    "\n",
    "## `iem_dallas_matches`"
   ]
  },
  {
   "cell_type": "markdown",
   "id": "fe4a5923c1e7a907",
   "metadata": {},
   "source": [
    "# Data Gathering Methodology"
   ]
  },
  {
   "cell_type": "markdown",
   "id": "53500a526d29802c",
   "metadata": {},
   "source": [
    "## On Data Cleaning\n",
    "\n",
    "We did not perform data cleaning on our dataset in this notebook since we gathered our data from our own scripts and manual scraping.\n",
    "\n",
    "However, our scripts performed the following data cleaning steps:\n"
   ]
  },
  {
   "cell_type": "markdown",
   "id": "4a52b13731fe8cc3",
   "metadata": {},
   "source": [
    "# EDA"
   ]
  },
  {
   "cell_type": "markdown",
   "id": "155a4930",
   "metadata": {},
   "source": [
    "For our EDA, we will be exploring the different key metrics for each team, each member, and each map."
   ]
  },
  {
   "cell_type": "code",
   "execution_count": 10,
   "metadata": {},
   "outputs": [
    {
     "name": "stdout",
     "output_type": "stream",
     "text": [
      "<class 'pandas.core.frame.DataFrame'>\n",
      "RangeIndex: 2970 entries, 0 to 2969\n",
      "Data columns (total 34 columns):\n",
      " #   Column                       Non-Null Count  Dtype  \n",
      "---  ------                       --------------  -----  \n",
      " 0   match_id                     2970 non-null   int64  \n",
      " 1   map_id                       2970 non-null   int64  \n",
      " 2   round_id                     2970 non-null   int64  \n",
      " 3   team_name                    2970 non-null   object \n",
      " 4   map_name                     2970 non-null   object \n",
      " 5   round_number                 2970 non-null   int64  \n",
      " 6   round_ct_team                2970 non-null   object \n",
      " 7   round_first_site_hit         1610 non-null   object \n",
      " 8   round_site_hit_time          1610 non-null   float64\n",
      " 9   round_bomb_plant_site        1460 non-null   object \n",
      " 10  player_planted_bomb          2970 non-null   bool   \n",
      " 11  round_bomb_plant_time        1460 non-null   float64\n",
      " 12  round_bomb_defuser           2970 non-null   bool   \n",
      " 13  bomb_defuse_time             330 non-null    float64\n",
      " 14  round_length                 2970 non-null   float64\n",
      " 15  round_result                 2970 non-null   object \n",
      " 16  round_timeout_called_before  110 non-null    object \n",
      " 17  player_name                  2970 non-null   object \n",
      " 18  player_flashes_used          2970 non-null   int64  \n",
      " 19  player_smokes_used           2970 non-null   int64  \n",
      " 20  player_grenades_used         2970 non-null   int64  \n",
      " 21  player_molotovs_used         2970 non-null   int64  \n",
      " 22  player_incendiaries_used     2970 non-null   int64  \n",
      " 23  player_kills                 2970 non-null   int64  \n",
      " 24  player_died                  2970 non-null   bool   \n",
      " 25  player_spent_amount          2970 non-null   int64  \n",
      " 26  player_loadout               2970 non-null   object \n",
      " 27  player_damage                2970 non-null   float64\n",
      " 28  round_first_killer           2970 non-null   bool   \n",
      " 29  round_first_death            2970 non-null   bool   \n",
      " 30  player_headshots             2970 non-null   int64  \n",
      " 31  player_upperbodyshots        2970 non-null   int64  \n",
      " 32  player_stomachshots          2970 non-null   int64  \n",
      " 33  player_legshots              2970 non-null   int64  \n",
      "dtypes: bool(5), float64(5), int64(15), object(9)\n",
      "memory usage: 687.5+ KB\n"
     ]
    }
   ],
   "source": [
    "iem_dallas_df = pd.read_csv(\"iem_dallas.csv\")\n",
    "iem_dallas_df.info()"
   ]
  },
  {
   "cell_type": "markdown",
   "id": "b79b2d39",
   "metadata": {},
   "source": [
    "### Teams - Exploratory Data Analysis\n",
    "#### What are the key metrics for each team?"
   ]
  },
  {
   "cell_type": "markdown",
   "id": "eab4062e",
   "metadata": {},
   "source": [
    "Total Matches"
   ]
  },
  {
   "cell_type": "code",
   "execution_count": 11,
   "id": "26b5d1e2",
   "metadata": {},
   "outputs": [
    {
     "name": "stdout",
     "output_type": "stream",
     "text": [
      "Total matches played by each team:\n",
      "        team_name  matches_played\n",
      "1          Aurora               2\n",
      "0           3DMAX               1\n",
      "2             BCG               1\n",
      "3       FaZe Clan               1\n",
      "4     GamerLegion               1\n",
      "5          HEROIC               1\n",
      "6          LEGACY               1\n",
      "7            MOUZ               1\n",
      "8             NRG               1\n",
      "9     Team Liquid               1\n",
      "10  Team Vitality               1\n"
     ]
    }
   ],
   "source": [
    "matches_per_team = iem_dallas_df.groupby('team_name')['match_id'].nunique().to_frame().reset_index()\n",
    "matches_per_team.columns = ['team_name', 'matches_played']\n",
    "\n",
    "print(\"Total matches played by each team:\")\n",
    "print(matches_per_team.sort_values(by='matches_played', ascending=False))\n"
   ]
  },
  {
   "cell_type": "markdown",
   "id": "a67e43ac",
   "metadata": {},
   "source": [
    "Total Rounds"
   ]
  },
  {
   "cell_type": "code",
   "execution_count": 12,
   "id": "785b6ed5",
   "metadata": {},
   "outputs": [
    {
     "name": "stdout",
     "output_type": "stream",
     "text": [
      "Total rounds played by each team:\n",
      "        team_name  rounds_played\n",
      "1          Aurora             98\n",
      "0           3DMAX             78\n",
      "6          LEGACY             78\n",
      "5          HEROIC             64\n",
      "4     GamerLegion             45\n",
      "10  Team Vitality             45\n",
      "2             BCG             40\n",
      "3       FaZe Clan             40\n",
      "7            MOUZ             36\n",
      "9     Team Liquid             36\n",
      "8             NRG             34\n"
     ]
    }
   ],
   "source": [
    "rounds_per_team = iem_dallas_df.groupby('team_name')['round_id'].nunique().to_frame().reset_index()\n",
    "rounds_per_team.columns = ['team_name', 'rounds_played']\n",
    "\n",
    "print(\"Total rounds played by each team:\")\n",
    "print(rounds_per_team.sort_values(by= 'rounds_played',ascending=False))"
   ]
  },
  {
   "cell_type": "markdown",
   "id": "51fee022",
   "metadata": {},
   "source": [
    "Round Winrate"
   ]
  },
  {
   "cell_type": "code",
   "execution_count": 13,
   "id": "2bc1ddf0",
   "metadata": {},
   "outputs": [
    {
     "data": {
      "text/html": [
       "<div>\n",
       "<style scoped>\n",
       "    .dataframe tbody tr th:only-of-type {\n",
       "        vertical-align: middle;\n",
       "    }\n",
       "\n",
       "    .dataframe tbody tr th {\n",
       "        vertical-align: top;\n",
       "    }\n",
       "\n",
       "    .dataframe thead th {\n",
       "        text-align: right;\n",
       "    }\n",
       "</style>\n",
       "<table border=\"1\" class=\"dataframe\">\n",
       "  <thead>\n",
       "    <tr style=\"text-align: right;\">\n",
       "      <th></th>\n",
       "      <th>team_name</th>\n",
       "      <th>map_id</th>\n",
       "      <th>round_id</th>\n",
       "    </tr>\n",
       "  </thead>\n",
       "  <tbody>\n",
       "    <tr>\n",
       "      <th>0</th>\n",
       "      <td>3DMAX</td>\n",
       "      <td>20</td>\n",
       "      <td>22</td>\n",
       "    </tr>\n",
       "    <tr>\n",
       "      <th>1</th>\n",
       "      <td>3DMAX</td>\n",
       "      <td>21</td>\n",
       "      <td>6</td>\n",
       "    </tr>\n",
       "    <tr>\n",
       "      <th>2</th>\n",
       "      <td>3DMAX</td>\n",
       "      <td>22</td>\n",
       "      <td>13</td>\n",
       "    </tr>\n",
       "    <tr>\n",
       "      <th>3</th>\n",
       "      <td>Aurora</td>\n",
       "      <td>15</td>\n",
       "      <td>12</td>\n",
       "    </tr>\n",
       "    <tr>\n",
       "      <th>4</th>\n",
       "      <td>Aurora</td>\n",
       "      <td>16</td>\n",
       "      <td>7</td>\n",
       "    </tr>\n",
       "    <tr>\n",
       "      <th>5</th>\n",
       "      <td>Aurora</td>\n",
       "      <td>17</td>\n",
       "      <td>6</td>\n",
       "    </tr>\n",
       "    <tr>\n",
       "      <th>6</th>\n",
       "      <td>Aurora</td>\n",
       "      <td>27</td>\n",
       "      <td>10</td>\n",
       "    </tr>\n",
       "    <tr>\n",
       "      <th>7</th>\n",
       "      <td>Aurora</td>\n",
       "      <td>28</td>\n",
       "      <td>12</td>\n",
       "    </tr>\n",
       "    <tr>\n",
       "      <th>8</th>\n",
       "      <td>BCG</td>\n",
       "      <td>18</td>\n",
       "      <td>11</td>\n",
       "    </tr>\n",
       "    <tr>\n",
       "      <th>9</th>\n",
       "      <td>BCG</td>\n",
       "      <td>19</td>\n",
       "      <td>5</td>\n",
       "    </tr>\n",
       "    <tr>\n",
       "      <th>10</th>\n",
       "      <td>FaZe Clan</td>\n",
       "      <td>18</td>\n",
       "      <td>12</td>\n",
       "    </tr>\n",
       "    <tr>\n",
       "      <th>11</th>\n",
       "      <td>FaZe Clan</td>\n",
       "      <td>19</td>\n",
       "      <td>12</td>\n",
       "    </tr>\n",
       "    <tr>\n",
       "      <th>12</th>\n",
       "      <td>GamerLegion</td>\n",
       "      <td>25</td>\n",
       "      <td>8</td>\n",
       "    </tr>\n",
       "    <tr>\n",
       "      <th>13</th>\n",
       "      <td>GamerLegion</td>\n",
       "      <td>26</td>\n",
       "      <td>11</td>\n",
       "    </tr>\n",
       "    <tr>\n",
       "      <th>14</th>\n",
       "      <td>HEROIC</td>\n",
       "      <td>15</td>\n",
       "      <td>10</td>\n",
       "    </tr>\n",
       "    <tr>\n",
       "      <th>15</th>\n",
       "      <td>HEROIC</td>\n",
       "      <td>16</td>\n",
       "      <td>16</td>\n",
       "    </tr>\n",
       "    <tr>\n",
       "      <th>16</th>\n",
       "      <td>HEROIC</td>\n",
       "      <td>17</td>\n",
       "      <td>13</td>\n",
       "    </tr>\n",
       "    <tr>\n",
       "      <th>17</th>\n",
       "      <td>LEGACY</td>\n",
       "      <td>20</td>\n",
       "      <td>14</td>\n",
       "    </tr>\n",
       "    <tr>\n",
       "      <th>18</th>\n",
       "      <td>LEGACY</td>\n",
       "      <td>21</td>\n",
       "      <td>12</td>\n",
       "    </tr>\n",
       "    <tr>\n",
       "      <th>19</th>\n",
       "      <td>LEGACY</td>\n",
       "      <td>22</td>\n",
       "      <td>11</td>\n",
       "    </tr>\n",
       "    <tr>\n",
       "      <th>20</th>\n",
       "      <td>MOUZ</td>\n",
       "      <td>23</td>\n",
       "      <td>13</td>\n",
       "    </tr>\n",
       "    <tr>\n",
       "      <th>21</th>\n",
       "      <td>MOUZ</td>\n",
       "      <td>24</td>\n",
       "      <td>10</td>\n",
       "    </tr>\n",
       "    <tr>\n",
       "      <th>22</th>\n",
       "      <td>NRG</td>\n",
       "      <td>27</td>\n",
       "      <td>7</td>\n",
       "    </tr>\n",
       "    <tr>\n",
       "      <th>23</th>\n",
       "      <td>NRG</td>\n",
       "      <td>28</td>\n",
       "      <td>5</td>\n",
       "    </tr>\n",
       "    <tr>\n",
       "      <th>24</th>\n",
       "      <td>Team Liquid</td>\n",
       "      <td>23</td>\n",
       "      <td>8</td>\n",
       "    </tr>\n",
       "    <tr>\n",
       "      <th>25</th>\n",
       "      <td>Team Liquid</td>\n",
       "      <td>24</td>\n",
       "      <td>5</td>\n",
       "    </tr>\n",
       "    <tr>\n",
       "      <th>26</th>\n",
       "      <td>Team Vitality</td>\n",
       "      <td>25</td>\n",
       "      <td>14</td>\n",
       "    </tr>\n",
       "    <tr>\n",
       "      <th>27</th>\n",
       "      <td>Team Vitality</td>\n",
       "      <td>26</td>\n",
       "      <td>12</td>\n",
       "    </tr>\n",
       "  </tbody>\n",
       "</table>\n",
       "</div>"
      ],
      "text/plain": [
       "        team_name  map_id  round_id\n",
       "0           3DMAX      20        22\n",
       "1           3DMAX      21         6\n",
       "2           3DMAX      22        13\n",
       "3          Aurora      15        12\n",
       "4          Aurora      16         7\n",
       "5          Aurora      17         6\n",
       "6          Aurora      27        10\n",
       "7          Aurora      28        12\n",
       "8             BCG      18        11\n",
       "9             BCG      19         5\n",
       "10      FaZe Clan      18        12\n",
       "11      FaZe Clan      19        12\n",
       "12    GamerLegion      25         8\n",
       "13    GamerLegion      26        11\n",
       "14         HEROIC      15        10\n",
       "15         HEROIC      16        16\n",
       "16         HEROIC      17        13\n",
       "17         LEGACY      20        14\n",
       "18         LEGACY      21        12\n",
       "19         LEGACY      22        11\n",
       "20           MOUZ      23        13\n",
       "21           MOUZ      24        10\n",
       "22            NRG      27         7\n",
       "23            NRG      28         5\n",
       "24    Team Liquid      23         8\n",
       "25    Team Liquid      24         5\n",
       "26  Team Vitality      25        14\n",
       "27  Team Vitality      26        12"
      ]
     },
     "execution_count": 13,
     "metadata": {},
     "output_type": "execute_result"
    }
   ],
   "source": [
    "total_rounds_per_map_df = iem_dallas_df.groupby(['team_name', 'map_id'])['round_id'].nunique().to_frame().reset_index()\n",
    "total_rounds_per_map_df.columns = ['team_name', 'map_id', 'total_rounds']\n",
    "\n",
    "total_round_wins_df = iem_dallas_df.loc[((iem_dallas_df['team_name'] == iem_dallas_df['round_ct_team']) & (iem_dallas_df['round_result'] == 'CT')) | ((iem_dallas_df['team_name'] != iem_dallas_df['round_ct_team']) & (iem_dallas_df['round_result'] == 'T'))]\n",
    "total_round_wins_per_map = total_round_wins_df.groupby(['team_name', 'map_id'])['round_id'].nunique().to_frame().reset_index()\n",
    "\n",
    "total_round_wins_per_map.columns\n",
    "total_round_wins_per_map\n",
    "#winrate_df = pd.merge(total_rounds_per_map_df, total_round_wins_per_map, on='team_name')\n",
    "#winrate_df['win_rate_percent'] = winrate_df['round_wins'] / winrate_df['total_rounds'] * 100\n",
    "\n",
    "#winrate_df \n",
    "#total_round_wins_per_map\n",
    "#winrate_df.boxplot(column='win_rate_percent', by='team_name', figsize=(12, 6))"
   ]
  },
  {
   "cell_type": "markdown",
   "id": "da22f613",
   "metadata": {},
   "source": [
    "Average Kills per Round"
   ]
  },
  {
   "cell_type": "code",
   "execution_count": 14,
   "id": "e9f20694",
   "metadata": {},
   "outputs": [
    {
     "data": {
      "text/plain": [
       "Text(0.5, 1.0, 'Average Player Kills per Map by Team')"
      ]
     },
     "execution_count": 14,
     "metadata": {},
     "output_type": "execute_result"
    },
    {
     "data": {
      "image/png": "[encoded data removed]",
      "text/plain": [
       "<Figure size 1200x600 with 1 Axes>"
      ]
     },
     "metadata": {},
     "output_type": "display_data"
    }
   ],
   "source": [
    "kills_per_map_per_team_df = iem_dallas_df.groupby(['team_name', 'map_id'])['player_kills'].sum().to_frame().reset_index()\n",
    "\n",
    "\n",
    "ave_kills_per_map_per_team_df = pd.merge(kills_per_map_per_team_df, total_rounds_per_map_df, on=['team_name', 'map_id'])\n",
    "ave_kills_per_map_per_team_df['average_player_kills_per_map'] = ave_kills_per_map_per_team_df['player_kills'] / ave_kills_per_map_per_team_df['total_rounds']\n",
    "\n",
    "\n",
    "ave_kills_per_map_per_team_df.boxplot('average_player_kills_per_map', by='team_name', figsize=(12, 6))\n",
    "plt.pyplot.title('Average Player Kills per Map by Team')\n"
   ]
  },
  {
   "cell_type": "markdown",
   "id": "79b54298",
   "metadata": {},
   "source": [
    "Average Deaths per Round"
   ]
  },
  {
   "cell_type": "code",
   "execution_count": 19,
   "id": "be5a8293",
   "metadata": {},
   "outputs": [
    {
     "data": {
      "text/plain": [
       "Text(0.5, 1.0, 'Average Player Deaths per Map by Team')"
      ]
     },
     "execution_count": 19,
     "metadata": {},
     "output_type": "execute_result"
    },
    {
     "data": {
      "image/png": "[encoded data removed]",
      "text/plain": [
       "<Figure size 1200x600 with 1 Axes>"
      ]
     },
     "metadata": {},
     "output_type": "display_data"
    }
   ],
   "source": [
    "deaths_per_map_per_team_df = iem_dallas_df.loc[iem_dallas_df['player_died'] == True].groupby(['team_name', 'map_id'])['player_died'].count().to_frame()\n",
    "\n",
    "average_deaths_per_map_per_team_df = pd.merge(deaths_per_map_per_team_df, total_rounds_per_map_df, on=['team_name', 'map_id'])\n",
    "average_deaths_per_map_per_team_df['average_player_deaths_per_map'] = average_deaths_per_map_per_team_df['player_died'] / average_deaths_per_map_per_team_df['total_rounds']\n",
    "\n",
    "average_deaths_per_map_per_team_df.boxplot('average_player_deaths_per_map', by='team_name', figsize=(12, 6))\n",
    "plt.pyplot.title('Average Player Deaths per Map by Team')\n",
    "\n"
   ]
  },
  {
   "cell_type": "markdown",
   "id": "e291c666",
   "metadata": {},
   "source": [
    "Number of rounds as CT"
   ]
  },
  {
   "cell_type": "code",
   "execution_count": null,
   "id": "1a3bc7a3",
   "metadata": {},
   "outputs": [
    {
     "ename": "SyntaxError",
     "evalue": "invalid syntax (3701734497.py, line 6)",
     "output_type": "error",
     "traceback": [
      "  \u001b[36mCell\u001b[39m\u001b[36m \u001b[39m\u001b[32mIn[16]\u001b[39m\u001b[32m, line 6\u001b[39m\n\u001b[31m    \u001b[39m\u001b[31mrounds_as_ct_df.\u001b[39m\n                    ^\n\u001b[31mSyntaxError\u001b[39m\u001b[31m:\u001b[39m invalid syntax\n"
     ]
    }
   ],
   "source": [
    "\n",
    "\n"
   ]
  },
  {
   "cell_type": "markdown",
   "id": "00ee3518",
   "metadata": {},
   "source": [
    "Number of rounds as T"
   ]
  },
  {
   "cell_type": "code",
   "execution_count": null,
   "id": "f1b8e60d",
   "metadata": {},
   "outputs": [
    {
     "data": {
      "text/html": [
       "<div>\n",
       "<style scoped>\n",
       "    .dataframe tbody tr th:only-of-type {\n",
       "        vertical-align: middle;\n",
       "    }\n",
       "\n",
       "    .dataframe tbody tr th {\n",
       "        vertical-align: top;\n",
       "    }\n",
       "\n",
       "    .dataframe thead th {\n",
       "        text-align: right;\n",
       "    }\n",
       "</style>\n",
       "<table border=\"1\" class=\"dataframe\">\n",
       "  <thead>\n",
       "    <tr style=\"text-align: right;\">\n",
       "      <th></th>\n",
       "      <th>team_name</th>\n",
       "      <th>t_rounds_played</th>\n",
       "    </tr>\n",
       "  </thead>\n",
       "  <tbody>\n",
       "    <tr>\n",
       "      <th>0</th>\n",
       "      <td>3DMAX</td>\n",
       "      <td>42</td>\n",
       "    </tr>\n",
       "    <tr>\n",
       "      <th>1</th>\n",
       "      <td>Aurora</td>\n",
       "      <td>48</td>\n",
       "    </tr>\n",
       "    <tr>\n",
       "      <th>2</th>\n",
       "      <td>BCG</td>\n",
       "      <td>26</td>\n",
       "    </tr>\n",
       "    <tr>\n",
       "      <th>3</th>\n",
       "      <td>FaZe Clan</td>\n",
       "      <td>14</td>\n",
       "    </tr>\n",
       "    <tr>\n",
       "      <th>4</th>\n",
       "      <td>GamerLegion</td>\n",
       "      <td>23</td>\n",
       "    </tr>\n",
       "    <tr>\n",
       "      <th>5</th>\n",
       "      <td>HEROIC</td>\n",
       "      <td>33</td>\n",
       "    </tr>\n",
       "    <tr>\n",
       "      <th>6</th>\n",
       "      <td>LEGACY</td>\n",
       "      <td>36</td>\n",
       "    </tr>\n",
       "    <tr>\n",
       "      <th>7</th>\n",
       "      <td>MOUZ</td>\n",
       "      <td>22</td>\n",
       "    </tr>\n",
       "    <tr>\n",
       "      <th>8</th>\n",
       "      <td>NRG</td>\n",
       "      <td>17</td>\n",
       "    </tr>\n",
       "    <tr>\n",
       "      <th>9</th>\n",
       "      <td>Team Liquid</td>\n",
       "      <td>14</td>\n",
       "    </tr>\n",
       "    <tr>\n",
       "      <th>10</th>\n",
       "      <td>Team Vitality</td>\n",
       "      <td>22</td>\n",
       "    </tr>\n",
       "  </tbody>\n",
       "</table>\n",
       "</div>"
      ],
      "text/plain": [
       "        team_name  t_rounds_played\n",
       "0           3DMAX               42\n",
       "1          Aurora               48\n",
       "2             BCG               26\n",
       "3       FaZe Clan               14\n",
       "4     GamerLegion               23\n",
       "5          HEROIC               33\n",
       "6          LEGACY               36\n",
       "7            MOUZ               22\n",
       "8             NRG               17\n",
       "9     Team Liquid               14\n",
       "10  Team Vitality               22"
      ]
     },
     "execution_count": 9,
     "metadata": {},
     "output_type": "execute_result"
    }
   ],
   "source": [
    "\n"
   ]
  },
  {
   "cell_type": "markdown",
   "id": "3345e62d",
   "metadata": {},
   "source": [
    "Average Flashes per Game"
   ]
  },
  {
   "cell_type": "code",
   "execution_count": null,
   "id": "75b12326",
   "metadata": {},
   "outputs": [
    {
     "data": {
      "text/plain": [
       "<Axes: title={'center': 'average_flashes_per_map'}, xlabel='team_name'>"
      ]
     },
     "execution_count": 10,
     "metadata": {},
     "output_type": "execute_result"
    },
    {
     "data": {
      "image/png": "[encoded data removed]",
      "text/plain": [
       "<Figure size 1200x600 with 1 Axes>"
      ]
     },
     "metadata": {},
     "output_type": "display_data"
    }
   ],
   "source": [
    "flashes_per_game_df = iem_dallas_df.groupby(['team_name', 'map_id'])['player_flashes_used'].sum()\n",
    "\n",
    "ave_flashes_per_map_per_team_df = pd.merge(flashes_per_game_df, total_rounds_per_map_df, on=['team_name', 'map_id'])\n",
    "ave_flashes_per_map_per_team_df['average_flashes_per_map'] = ave_flashes_per_map_per_team_df['player_flashes_used'] / ave_flashes_per_map_per_team_df['total_rounds']\n",
    "\n",
    "ave_flashes_per_map_per_team_df.boxplot('average_flashes_per_map', by='team_name', figsize=(12, 6))\n",
    "\n"
   ]
  },
  {
   "cell_type": "markdown",
   "id": "f9480d38",
   "metadata": {},
   "source": []
  },
  {
   "cell_type": "code",
   "execution_count": null,
   "id": "63900291",
   "metadata": {},
   "outputs": [],
   "source": [
    "flashes_per_game_df = iem_dallas_df.groupby(['team_name', 'map_id'])['player_flashes_used'].sum()\n",
    "\n",
    "ave_flashes_per_map_per_team_df = pd.merge(flashes_per_game_df, total_rounds_per_map_df, on=['team_name', 'map_id'])\n",
    "ave_flashes_per_map_per_team_df['average_flashes_per_map'] = ave_flashes_per_map_per_team_df['player_flashes_used'] / ave_flashes_per_map_per_team_df['total_rounds']\n",
    "\n",
    "ave_flashes_per_map_per_team_df.boxplot('average_flashes_per_map', by='team_name', figsize=(12, 6))\n"
   ]
  },
  {
   "cell_type": "markdown",
   "id": "2b0dea16",
   "metadata": {},
   "source": []
  },
  {
   "cell_type": "markdown",
   "id": "81d463cdf974914e",
   "metadata": {},
   "source": [
    "# AI Disclaimer"
   ]
  }
 ],
 "metadata": {
  "kernelspec": {
   "display_name": "Python 3",
   "language": "python",
   "name": "python3"
  },
  "language_info": {
   "codemirror_mode": {
    "name": "ipython",
    "version": 3
   },
   "file_extension": ".py",
   "mimetype": "text/x-python",
   "name": "python",
   "nbconvert_exporter": "python",
   "pygments_lexer": "ipython3",
   "version": "3.13.3"
  }
 },
 "nbformat": 4,
 "nbformat_minor": 5
}
