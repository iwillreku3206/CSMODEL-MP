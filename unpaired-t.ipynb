{
 "cells": [
  {
   "cell_type": "code",
   "execution_count": 146,
   "id": "c821b5d2",
   "metadata": {},
   "outputs": [
    {
     "data": {
      "text/plain": [
       "0              [Glock-18, C4 Explosive]\n",
       "1    [Glock-18, Smoke Grenade, Molotov]\n",
       "2                            [Glock-18]\n",
       "3      [P250, Smoke Grenade, Flashbang]\n",
       "4                               [USP-S]\n",
       "5                [P2000, Smoke Grenade]\n",
       "6                       [Dual Berettas]\n",
       "7                               [USP-S]\n",
       "8                    [USP-S, Flashbang]\n",
       "9                            [Glock-18]\n",
       "Name: player_loadout_array, dtype: object"
      ]
     },
     "execution_count": 146,
     "metadata": {},
     "output_type": "execute_result"
    }
   ],
   "source": [
    "# from mp (preamble)\n",
    "\n",
    "import pandas as pd\n",
    "import numpy as np\n",
    "import copy\n",
    "\n",
    "from scipy import stats\n",
    "from scipy.stats import chi2_contingency\n",
    "from mlxtend.preprocessing import TransactionEncoder\n",
    "from mlxtend.frequent_patterns import apriori, association_rules\n",
    "\n",
    "demos = pd.read_csv(\"demos.csv\")\n",
    "demos['player_loadout_array'] = demos['player_loadout'].str.split(', ')\n",
    "unique_items = demos['player_loadout_array'].explode().unique().tolist()\n",
    "knives = [i for i in unique_items if\n",
    "          \"knife\" in i.lower() or\n",
    "          \"daggers\" in i.lower() or\n",
    "          \"bayonet\" in i.lower() or\n",
    "          \"karambit\" in i.lower()]\n",
    "\n",
    "knives\n",
    "demos['player_loadout_array'] = demos['player_loadout_array'].apply(lambda l: [i for i in l if i not in knives])\n",
    "demos['player_loadout_array'].head(10)\n"
   ]
  },
  {
   "cell_type": "code",
   "execution_count": 147,
   "id": "4fcf1dc3",
   "metadata": {},
   "outputs": [],
   "source": [
    "import pandas as pd\n",
    "import matplotlib as plt\n",
    "import numpy as np\n",
    "import adjustText as at\n",
    "from adjustText import adjust_text\n",
    "\n",
    "demos = pd.read_csv(\"demos.csv\")\n",
    "matches = pd.read_csv(\"matches.csv\")\n",
    "players = pd.read_csv(\"players.csv\")\n",
    "teams = pd.read_csv(\"teams.csv\")"
   ]
  },
  {
   "cell_type": "markdown",
   "id": "345b99e2",
   "metadata": {},
   "source": [
    "### Team Names\n",
    "\n",
    "If we read the list of team names in the `players.csv`, `teams.csv` and `demos.csv` files, they differ from each other:"
   ]
  },
  {
   "cell_type": "code",
   "execution_count": 148,
   "id": "ba6a5288",
   "metadata": {},
   "outputs": [
    {
     "data": {
      "text/html": [
       "<div>\n",
       "<style scoped>\n",
       "    .dataframe tbody tr th:only-of-type {\n",
       "        vertical-align: middle;\n",
       "    }\n",
       "\n",
       "    .dataframe tbody tr th {\n",
       "        vertical-align: top;\n",
       "    }\n",
       "\n",
       "    .dataframe thead th {\n",
       "        text-align: right;\n",
       "    }\n",
       "</style>\n",
       "<table border=\"1\" class=\"dataframe\">\n",
       "  <thead>\n",
       "    <tr style=\"text-align: right;\">\n",
       "      <th></th>\n",
       "      <th>teams</th>\n",
       "      <th>demos</th>\n",
       "      <th>players</th>\n",
       "    </tr>\n",
       "  </thead>\n",
       "  <tbody>\n",
       "    <tr>\n",
       "      <th>0</th>\n",
       "      <td>3DMAX</td>\n",
       "      <td>3DMAX</td>\n",
       "      <td>3DMAX</td>\n",
       "    </tr>\n",
       "    <tr>\n",
       "      <th>1</th>\n",
       "      <td>Aurora</td>\n",
       "      <td>Aurora</td>\n",
       "      <td>Aurora</td>\n",
       "    </tr>\n",
       "    <tr>\n",
       "      <th>2</th>\n",
       "      <td>BC.Game</td>\n",
       "      <td>BCG</td>\n",
       "      <td>BC.Game</td>\n",
       "    </tr>\n",
       "    <tr>\n",
       "      <th>3</th>\n",
       "      <td>FURIA</td>\n",
       "      <td>FURIA</td>\n",
       "      <td>FURIA</td>\n",
       "    </tr>\n",
       "    <tr>\n",
       "      <th>4</th>\n",
       "      <td>FaZe</td>\n",
       "      <td>FaZe Clan</td>\n",
       "      <td>FaZe</td>\n",
       "    </tr>\n",
       "    <tr>\n",
       "      <th>5</th>\n",
       "      <td>Falcons</td>\n",
       "      <td>G2 Esports</td>\n",
       "      <td>Falcons</td>\n",
       "    </tr>\n",
       "    <tr>\n",
       "      <th>6</th>\n",
       "      <td>G2</td>\n",
       "      <td>GamerLegion</td>\n",
       "      <td>G2</td>\n",
       "    </tr>\n",
       "    <tr>\n",
       "      <th>7</th>\n",
       "      <td>GamerLegion</td>\n",
       "      <td>HEROIC</td>\n",
       "      <td>GamerLegion</td>\n",
       "    </tr>\n",
       "    <tr>\n",
       "      <th>8</th>\n",
       "      <td>HEROIC</td>\n",
       "      <td>LEGACY</td>\n",
       "      <td>HEROIC</td>\n",
       "    </tr>\n",
       "    <tr>\n",
       "      <th>9</th>\n",
       "      <td>Legacy</td>\n",
       "      <td>Lynn Vision Gaming</td>\n",
       "      <td>Legacy</td>\n",
       "    </tr>\n",
       "    <tr>\n",
       "      <th>10</th>\n",
       "      <td>Liquid</td>\n",
       "      <td>MOUZ</td>\n",
       "      <td>Liquid</td>\n",
       "    </tr>\n",
       "    <tr>\n",
       "      <th>11</th>\n",
       "      <td>Lynn Vision</td>\n",
       "      <td>NRG</td>\n",
       "      <td>Lynn Vision</td>\n",
       "    </tr>\n",
       "    <tr>\n",
       "      <th>12</th>\n",
       "      <td>MOUZ</td>\n",
       "      <td>Team Falcons</td>\n",
       "      <td>MOUZ</td>\n",
       "    </tr>\n",
       "    <tr>\n",
       "      <th>13</th>\n",
       "      <td>NRG</td>\n",
       "      <td>Team Liquid</td>\n",
       "      <td>NRG</td>\n",
       "    </tr>\n",
       "    <tr>\n",
       "      <th>14</th>\n",
       "      <td>The MongolZ</td>\n",
       "      <td>Team Vitality</td>\n",
       "      <td>The MongolZ</td>\n",
       "    </tr>\n",
       "    <tr>\n",
       "      <th>15</th>\n",
       "      <td>Vitality</td>\n",
       "      <td>The MongolZ</td>\n",
       "      <td>Vitality</td>\n",
       "    </tr>\n",
       "  </tbody>\n",
       "</table>\n",
       "</div>"
      ],
      "text/plain": [
       "          teams               demos      players\n",
       "0         3DMAX               3DMAX        3DMAX\n",
       "1        Aurora              Aurora       Aurora\n",
       "2       BC.Game                 BCG      BC.Game\n",
       "3         FURIA               FURIA        FURIA\n",
       "4          FaZe           FaZe Clan         FaZe\n",
       "5       Falcons          G2 Esports      Falcons\n",
       "6            G2         GamerLegion           G2\n",
       "7   GamerLegion              HEROIC  GamerLegion\n",
       "8        HEROIC              LEGACY       HEROIC\n",
       "9        Legacy  Lynn Vision Gaming       Legacy\n",
       "10       Liquid                MOUZ       Liquid\n",
       "11  Lynn Vision                 NRG  Lynn Vision\n",
       "12         MOUZ        Team Falcons         MOUZ\n",
       "13          NRG         Team Liquid          NRG\n",
       "14  The MongolZ       Team Vitality  The MongolZ\n",
       "15     Vitality         The MongolZ     Vitality"
      ]
     },
     "execution_count": 148,
     "metadata": {},
     "output_type": "execute_result"
    }
   ],
   "source": [
    "teams_team_names = sorted(teams['team_name'].unique())\n",
    "demos_team_names = sorted(demos['team_name'].unique())\n",
    "players_team_names = sorted(players['team'].unique())\n",
    "\n",
    "pd.DataFrame({\n",
    "    'teams': teams_team_names,\n",
    "    'demos': demos_team_names,\n",
    "    'players': players_team_names\n",
    "})"
   ]
  },
  {
   "cell_type": "markdown",
   "id": "413de375",
   "metadata": {},
   "source": [
    "Both the `teams.csv` and `players.csv` team names are the same, but the ones in `demos.csv` are different.\n",
    "We will replace the values in `players.csv` and `teams.csv` since they are smaller files, for performance reasons.\n",
    "\n",
    "First, we get the differences:"
   ]
  },
  {
   "cell_type": "code",
   "execution_count": 149,
   "id": "f618f6c4",
   "metadata": {},
   "outputs": [
    {
     "data": {
      "text/plain": [
       "2                BC.Game\n",
       "3                    BCG\n",
       "5                   FaZe\n",
       "6              FaZe Clan\n",
       "7                Falcons\n",
       "8                     G2\n",
       "9             G2 Esports\n",
       "12                LEGACY\n",
       "13                Legacy\n",
       "14                Liquid\n",
       "15           Lynn Vision\n",
       "16    Lynn Vision Gaming\n",
       "19          Team Falcons\n",
       "20           Team Liquid\n",
       "21         Team Vitality\n",
       "23              Vitality\n",
       "dtype: object"
      ]
     },
     "execution_count": 149,
     "metadata": {},
     "output_type": "execute_result"
    }
   ],
   "source": [
    "union_ser = pd.Series(np.union1d(teams_team_names, demos_team_names))\n",
    "intersection_ser = pd.Series(np.intersect1d(teams_team_names, demos_team_names))\n",
    "differences = union_ser[~union_ser.isin(intersection_ser)]\n",
    "\n",
    "differences"
   ]
  },
  {
   "cell_type": "markdown",
   "id": "fb14a96d",
   "metadata": {},
   "source": [
    "From here, we can see the following that need to change:\n",
    "\n",
    "- `BC.Game` -> `BCG`\n",
    "- `FaZe` -> `FaZe Clan`\n",
    "- `Falcons` -> `Team Falcons`\n",
    "- `G2` -> `G2 Esports`\n",
    "- `Legacy` -> `LEGACY`\n",
    "- `Liquid` -> `Team Liquid`\n",
    "- `Lynn Vision` -> `Lynn Vision Gaming`\n",
    "- `Vitality` -> `Team Vitality`\n",
    "\n",
    "Now we can fix this:"
   ]
  },
  {
   "cell_type": "code",
   "execution_count": 150,
   "id": "59c091c7",
   "metadata": {},
   "outputs": [],
   "source": [
    "teams['team_name'] = teams['team_name'].replace('BC.Game', 'BCG')\n",
    "teams['team_name'] = teams['team_name'].replace('FaZe', 'FaZe Clan')\n",
    "teams['team_name'] = teams['team_name'].replace('Falcons', 'Team Falcons')\n",
    "teams['team_name'] = teams['team_name'].replace('G2', 'G2 Esports')\n",
    "teams['team_name'] = teams['team_name'].replace('Legacy', 'LEGACY')\n",
    "teams['team_name'] = teams['team_name'].replace('Liquid', 'Team Liquid')\n",
    "teams['team_name'] = teams['team_name'].replace('Lynn Vision', 'Lynn Vision Gaming')\n",
    "teams['team_name'] = teams['team_name'].replace('Vitality', 'Team Vitality')\n",
    "\n",
    "players['team'] = players['team'].replace('BC.Game', 'BCG')\n",
    "players['team'] = players['team'].replace('FaZe', 'FaZe Clan')\n",
    "players['team'] = players['team'].replace('Falcons', 'Team Falcons')\n",
    "players['team'] = players['team'].replace('G2', 'G2 Esports')\n",
    "players['team'] = players['team'].replace('Legacy', 'LEGACY')\n",
    "players['team'] = players['team'].replace('Liquid', 'Team Liquid')\n",
    "players['team'] = players['team'].replace('Lynn Vision', 'Lynn Vision Gaming')\n",
    "players['team'] = players['team'].replace('Vitality', 'Team Vitality')"
   ]
  },
  {
   "cell_type": "markdown",
   "id": "b07f8869",
   "metadata": {},
   "source": [
    "Now, we check for differences:"
   ]
  },
  {
   "cell_type": "code",
   "execution_count": 151,
   "id": "1df2345d",
   "metadata": {},
   "outputs": [
    {
     "data": {
      "text/plain": [
       "0"
      ]
     },
     "execution_count": 151,
     "metadata": {},
     "output_type": "execute_result"
    }
   ],
   "source": [
    "teams_team_names = teams['team_name'].unique()\n",
    "demos_team_names = demos['team_name'].unique()\n",
    "players_team_names = players['team'].unique()\n",
    "\n",
    "union_ser = pd.Series(np.union1d(teams_team_names, demos_team_names))\n",
    "intersection_ser = pd.Series(np.intersect1d(teams_team_names, demos_team_names))\n",
    "differences = union_ser[~union_ser.isin(intersection_ser)]\n",
    "\n",
    "len(differences)"
   ]
  },
  {
   "cell_type": "markdown",
   "id": "552be6f1",
   "metadata": {},
   "source": [
    "As you can see, there are no more differences."
   ]
  },
  {
   "cell_type": "markdown",
   "id": "db570c9b",
   "metadata": {},
   "source": [
    "### Player Names\n",
    "\n",
    "If we read the list of player names in the `players.csv` and `demos.csv` files, they differ from each other:\n"
   ]
  },
  {
   "cell_type": "code",
   "execution_count": 152,
   "id": "c78f0712",
   "metadata": {},
   "outputs": [
    {
     "data": {
      "text/plain": [
       "0           910\n",
       "1          910-\n",
       "11     HeavyGoD\n",
       "12     HeavyGod\n",
       "22       Mzinho\n",
       "29       Skullz\n",
       "36       Techno\n",
       "37     Techno4K\n",
       "39    Westmelon\n",
       "63       mzinho\n",
       "74       skullz\n",
       "78    westmelon\n",
       "84         z4KR\n",
       "85         z4kr\n",
       "dtype: object"
      ]
     },
     "execution_count": 152,
     "metadata": {},
     "output_type": "execute_result"
    }
   ],
   "source": [
    "demos_player_names = demos['player_name'].unique()\n",
    "players_player_names = players['name'].unique()\n",
    "\n",
    "union_ser = pd.Series(np.union1d(players_player_names, demos_player_names))\n",
    "intersection_ser = pd.Series(np.intersect1d(players_player_names, demos_player_names))\n",
    "differences = union_ser[~union_ser.isin(intersection_ser)]\n",
    "\n",
    "differences"
   ]
  },
  {
   "cell_type": "markdown",
   "id": "1b767d59",
   "metadata": {},
   "source": [
    "To determine which names are equivalent to which, we make a DataFrame:"
   ]
  },
  {
   "cell_type": "code",
   "execution_count": 153,
   "id": "93f9fa97",
   "metadata": {},
   "outputs": [
    {
     "data": {
      "text/html": [
       "<div>\n",
       "<style scoped>\n",
       "    .dataframe tbody tr th:only-of-type {\n",
       "        vertical-align: middle;\n",
       "    }\n",
       "\n",
       "    .dataframe tbody tr th {\n",
       "        vertical-align: top;\n",
       "    }\n",
       "\n",
       "    .dataframe thead th {\n",
       "        text-align: right;\n",
       "    }\n",
       "</style>\n",
       "<table border=\"1\" class=\"dataframe\">\n",
       "  <thead>\n",
       "    <tr style=\"text-align: right;\">\n",
       "      <th></th>\n",
       "      <th>demos</th>\n",
       "      <th>players</th>\n",
       "    </tr>\n",
       "  </thead>\n",
       "  <tbody>\n",
       "    <tr>\n",
       "      <th>7</th>\n",
       "      <td>Skullz</td>\n",
       "      <td>NaN</td>\n",
       "    </tr>\n",
       "    <tr>\n",
       "      <th>17</th>\n",
       "      <td>NaN</td>\n",
       "      <td>Techno</td>\n",
       "    </tr>\n",
       "    <tr>\n",
       "      <th>18</th>\n",
       "      <td>NaN</td>\n",
       "      <td>mzinho</td>\n",
       "    </tr>\n",
       "    <tr>\n",
       "      <th>19</th>\n",
       "      <td>NaN</td>\n",
       "      <td>910</td>\n",
       "    </tr>\n",
       "    <tr>\n",
       "      <th>33</th>\n",
       "      <td>NaN</td>\n",
       "      <td>HeavyGod</td>\n",
       "    </tr>\n",
       "    <tr>\n",
       "      <th>50</th>\n",
       "      <td>HeavyGoD</td>\n",
       "      <td>NaN</td>\n",
       "    </tr>\n",
       "    <tr>\n",
       "      <th>51</th>\n",
       "      <td>NaN</td>\n",
       "      <td>skullz</td>\n",
       "    </tr>\n",
       "    <tr>\n",
       "      <th>52</th>\n",
       "      <td>z4KR</td>\n",
       "      <td>NaN</td>\n",
       "    </tr>\n",
       "    <tr>\n",
       "      <th>56</th>\n",
       "      <td>westmelon</td>\n",
       "      <td>NaN</td>\n",
       "    </tr>\n",
       "    <tr>\n",
       "      <th>62</th>\n",
       "      <td>NaN</td>\n",
       "      <td>Westmelon</td>\n",
       "    </tr>\n",
       "    <tr>\n",
       "      <th>64</th>\n",
       "      <td>NaN</td>\n",
       "      <td>z4kr</td>\n",
       "    </tr>\n",
       "    <tr>\n",
       "      <th>66</th>\n",
       "      <td>910-</td>\n",
       "      <td>NaN</td>\n",
       "    </tr>\n",
       "    <tr>\n",
       "      <th>67</th>\n",
       "      <td>Techno4K</td>\n",
       "      <td>NaN</td>\n",
       "    </tr>\n",
       "    <tr>\n",
       "      <th>68</th>\n",
       "      <td>Mzinho</td>\n",
       "      <td>NaN</td>\n",
       "    </tr>\n",
       "  </tbody>\n",
       "</table>\n",
       "</div>"
      ],
      "text/plain": [
       "        demos    players\n",
       "7      Skullz        NaN\n",
       "17        NaN     Techno\n",
       "18        NaN     mzinho\n",
       "19        NaN        910\n",
       "33        NaN   HeavyGod\n",
       "50   HeavyGoD        NaN\n",
       "51        NaN     skullz\n",
       "52       z4KR        NaN\n",
       "56  westmelon        NaN\n",
       "62        NaN  Westmelon\n",
       "64        NaN       z4kr\n",
       "66       910-        NaN\n",
       "67   Techno4K        NaN\n",
       "68     Mzinho        NaN"
      ]
     },
     "execution_count": 153,
     "metadata": {},
     "output_type": "execute_result"
    }
   ],
   "source": [
    "demos_player_names = pd.Series(demos['player_name'].unique())\n",
    "players_player_names = pd.Series(players['name'].unique())\n",
    "\n",
    "demos_player_names = demos_player_names[demos_player_names.isin(differences)]\n",
    "players_player_names = players_player_names[players_player_names.isin(differences)]\n",
    "\n",
    "pd.DataFrame({'demos': demos_player_names, 'players': players_player_names})"
   ]
  },
  {
   "cell_type": "markdown",
   "id": "8d2396a2",
   "metadata": {},
   "source": [
    "From here, we can see the following that need to change:\n",
    "\n",
    "- `910` -> `910-`\n",
    "- `HeavyGod` -> `HeavyGoD`\n",
    "- `mzinho` -> `mzinho`\n",
    "- `skullz` -> `Skullz`\n",
    "- `Techno` -> `Techno4K`\n",
    "- `Westmelon` -> `westmelon`\n",
    "- `z4kr` -> `z4KR`\n",
    "\n",
    "Now we can fix this:"
   ]
  },
  {
   "cell_type": "code",
   "execution_count": 154,
   "id": "c909786a",
   "metadata": {},
   "outputs": [],
   "source": [
    "players['name'] = players['name'].replace('910', '910-')\n",
    "players['name'] = players['name'].replace('HeavyGod', 'HeavyGoD')\n",
    "players['name'] = players['name'].replace('mzinho', 'Mzinho')\n",
    "players['name'] = players['name'].replace('skullz', 'Skullz')\n",
    "players['name'] = players['name'].replace('Techno', 'Techno4K')\n",
    "players['name'] = players['name'].replace('Westmelon', 'westmelon')\n",
    "players['name'] = players['name'].replace('z4kr', 'z4KR')"
   ]
  },
  {
   "cell_type": "code",
   "execution_count": 155,
   "id": "23fb9851",
   "metadata": {},
   "outputs": [
    {
     "data": {
      "text/plain": [
       "0"
      ]
     },
     "execution_count": 155,
     "metadata": {},
     "output_type": "execute_result"
    }
   ],
   "source": [
    "demos_player_names = demos['player_name'].unique()\n",
    "players_player_names = players['name'].unique()\n",
    "\n",
    "union_ser = pd.Series(np.union1d(players_player_names, demos_player_names))\n",
    "intersection_ser = pd.Series(np.intersect1d(players_player_names, demos_player_names))\n",
    "differences = union_ser[~union_ser.isin(intersection_ser)]\n",
    "\n",
    "len(differences)"
   ]
  },
  {
   "cell_type": "markdown",
   "id": "8febf5a9",
   "metadata": {},
   "source": [
    "Now we can see there are no differences."
   ]
  },
  {
   "cell_type": "markdown",
   "id": "72c48d8e",
   "metadata": {},
   "source": [
    "## Player loadouts\n",
    "\n",
    "Player loadouts are encoded as comma-separated lists, so we turn it into an array. In addition, we need to remove knives,\n",
    "as it is impossible to drop knives in the game, and different knife skins (cosmetics) are counted as unique items rather\n",
    "than the same one, even if there is no gameplay effect.\n",
    "\n",
    "First, we convert to list and get a list of knives:"
   ]
  },
  {
   "cell_type": "code",
   "execution_count": 156,
   "id": "33caba90",
   "metadata": {},
   "outputs": [
    {
     "data": {
      "text/plain": [
       "['Butterfly Knife',\n",
       " 'Talon Knife',\n",
       " 'M9 Bayonet',\n",
       " 'Karambit',\n",
       " 'Shadow Daggers',\n",
       " 'Skeleton Knife',\n",
       " 'Flip Knife',\n",
       " 'Bayonet',\n",
       " 'Survival Knife',\n",
       " 'Nomad Knife',\n",
       " 'Stiletto Knife',\n",
       " 'knife_t',\n",
       " 'knife',\n",
       " 'Ursus Knife']"
      ]
     },
     "execution_count": 156,
     "metadata": {},
     "output_type": "execute_result"
    }
   ],
   "source": [
    "demos['player_loadout_array'] = demos['player_loadout'].str.split(', ')\n",
    "unique_items = demos['player_loadout_array'].explode().unique().tolist()\n",
    "knives = [i for i in unique_items if\n",
    "          \"knife\" in i.lower() or\n",
    "          \"daggers\" in i.lower() or\n",
    "          \"bayonet\" in i.lower() or\n",
    "          \"karambit\" in i.lower()]\n",
    "\n",
    "knives"
   ]
  },
  {
   "cell_type": "markdown",
   "id": "1a8ce1aa",
   "metadata": {},
   "source": [
    "Now, we filter:"
   ]
  },
  {
   "cell_type": "code",
   "execution_count": 157,
   "id": "357cf4ea",
   "metadata": {},
   "outputs": [
    {
     "data": {
      "text/plain": [
       "0              [Glock-18, C4 Explosive]\n",
       "1    [Glock-18, Smoke Grenade, Molotov]\n",
       "2                            [Glock-18]\n",
       "3      [P250, Smoke Grenade, Flashbang]\n",
       "4                               [USP-S]\n",
       "5                [P2000, Smoke Grenade]\n",
       "6                       [Dual Berettas]\n",
       "7                               [USP-S]\n",
       "8                    [USP-S, Flashbang]\n",
       "9                            [Glock-18]\n",
       "Name: player_loadout_array, dtype: object"
      ]
     },
     "execution_count": 157,
     "metadata": {},
     "output_type": "execute_result"
    }
   ],
   "source": [
    "demos['player_loadout_array'] = demos['player_loadout_array'].apply(lambda l: [i for i in l if i not in knives])\n",
    "demos['player_loadout_array'].head(10)"
   ]
  },
  {
   "cell_type": "markdown",
   "id": "0c8fd1c2",
   "metadata": {},
   "source": [
    "## Removing problematic game\n",
    "\n",
    "As mentioned before, match `25` game `60` was erroneously encoded by the tournament organizers, leading to potential problems with the data."
   ]
  },
  {
   "cell_type": "code",
   "execution_count": 158,
   "id": "ad677ad0",
   "metadata": {},
   "outputs": [],
   "source": [
    "demos = demos[demos['map_id'] != 60]"
   ]
  },
  {
   "cell_type": "markdown",
   "id": "27796861",
   "metadata": {},
   "source": [
    "## Removing problematic rounds\n",
    "\n",
    "Because of the nature of Source 2 demos, there are some rounds where the round_bomb_plant_time is less than or equal to 0, which is not possible in a real game. We will remove these rounds from our data.\n",
    "\n"
   ]
  },
  {
   "cell_type": "code",
   "execution_count": 159,
   "id": "c8546125",
   "metadata": {},
   "outputs": [],
   "source": [
    "demos = demos[(demos[\"round_bomb_plant_time\"] > 0) | (demos[\"round_bomb_plant_time\"].isna())]"
   ]
  },
  {
   "cell_type": "markdown",
   "id": "fe105fe5",
   "metadata": {},
   "source": [
    "## Imputing hit sites\n",
    "\n",
    "In the data set there were instances where the first site hit was not recorded but a bomb plant was recorded. In this case, we will impute the first site hit based on the bomb plant site. A limitation of this however is this may not cover instances where there are split pushes or rotation to the other site, but this is a good approximation for the data we have."
   ]
  },
  {
   "cell_type": "code",
   "execution_count": 160,
   "id": "b0ee911d",
   "metadata": {},
   "outputs": [
    {
     "data": {
      "text/html": [
       "<div>\n",
       "<style scoped>\n",
       "    .dataframe tbody tr th:only-of-type {\n",
       "        vertical-align: middle;\n",
       "    }\n",
       "\n",
       "    .dataframe tbody tr th {\n",
       "        vertical-align: top;\n",
       "    }\n",
       "\n",
       "    .dataframe thead th {\n",
       "        text-align: right;\n",
       "    }\n",
       "</style>\n",
       "<table border=\"1\" class=\"dataframe\">\n",
       "  <thead>\n",
       "    <tr style=\"text-align: right;\">\n",
       "      <th></th>\n",
       "      <th>match_id</th>\n",
       "      <th>map_id</th>\n",
       "      <th>round_id</th>\n",
       "      <th>team_name</th>\n",
       "      <th>map_name</th>\n",
       "      <th>round_number</th>\n",
       "      <th>round_ct_team</th>\n",
       "      <th>round_first_site_hit</th>\n",
       "      <th>round_site_hit_time</th>\n",
       "      <th>round_bomb_plant_site</th>\n",
       "      <th>player_planted_bomb</th>\n",
       "      <th>round_bomb_plant_time</th>\n",
       "      <th>round_bomb_defuser</th>\n",
       "      <th>bomb_defuse_time</th>\n",
       "      <th>round_length</th>\n",
       "      <th>round_result</th>\n",
       "      <th>round_timeout_called_before</th>\n",
       "      <th>player_name</th>\n",
       "      <th>player_flashes_used</th>\n",
       "      <th>player_smokes_used</th>\n",
       "      <th>player_grenades_used</th>\n",
       "      <th>player_molotovs_used</th>\n",
       "      <th>player_incendiaries_used</th>\n",
       "      <th>player_kills</th>\n",
       "      <th>player_died</th>\n",
       "      <th>player_spent_amount</th>\n",
       "      <th>player_loadout</th>\n",
       "      <th>player_damage</th>\n",
       "      <th>round_first_killer</th>\n",
       "      <th>round_first_death</th>\n",
       "      <th>player_headshots</th>\n",
       "      <th>player_upperbodyshots</th>\n",
       "      <th>player_stomachshots</th>\n",
       "      <th>player_legshots</th>\n",
       "      <th>player_loadout_array</th>\n",
       "    </tr>\n",
       "  </thead>\n",
       "  <tbody>\n",
       "    <tr>\n",
       "      <th>80</th>\n",
       "      <td>0</td>\n",
       "      <td>0</td>\n",
       "      <td>8</td>\n",
       "      <td>Team Liquid</td>\n",
       "      <td>de_ancient</td>\n",
       "      <td>9</td>\n",
       "      <td>FaZe Clan</td>\n",
       "      <td>B</td>\n",
       "      <td>NaN</td>\n",
       "      <td>B</td>\n",
       "      <td>True</td>\n",
       "      <td>112.21875</td>\n",
       "      <td>False</td>\n",
       "      <td>NaN</td>\n",
       "      <td>134.60938</td>\n",
       "      <td>T</td>\n",
       "      <td>NaN</td>\n",
       "      <td>NertZ</td>\n",
       "      <td>0</td>\n",
       "      <td>2</td>\n",
       "      <td>1</td>\n",
       "      <td>1</td>\n",
       "      <td>0</td>\n",
       "      <td>2</td>\n",
       "      <td>False</td>\n",
       "      <td>3800</td>\n",
       "      <td>Butterfly Knife, Glock-18, Galil AR, Smoke Gre...</td>\n",
       "      <td>195</td>\n",
       "      <td>False</td>\n",
       "      <td>False</td>\n",
       "      <td>1</td>\n",
       "      <td>1</td>\n",
       "      <td>1</td>\n",
       "      <td>0</td>\n",
       "      <td>[Glock-18, Galil AR, Smoke Grenade, Molotov, H...</td>\n",
       "    </tr>\n",
       "    <tr>\n",
       "      <th>81</th>\n",
       "      <td>0</td>\n",
       "      <td>0</td>\n",
       "      <td>8</td>\n",
       "      <td>Team Liquid</td>\n",
       "      <td>de_ancient</td>\n",
       "      <td>9</td>\n",
       "      <td>FaZe Clan</td>\n",
       "      <td>B</td>\n",
       "      <td>NaN</td>\n",
       "      <td>B</td>\n",
       "      <td>False</td>\n",
       "      <td>112.21875</td>\n",
       "      <td>False</td>\n",
       "      <td>NaN</td>\n",
       "      <td>134.60938</td>\n",
       "      <td>T</td>\n",
       "      <td>NaN</td>\n",
       "      <td>NAF</td>\n",
       "      <td>2</td>\n",
       "      <td>1</td>\n",
       "      <td>0</td>\n",
       "      <td>0</td>\n",
       "      <td>0</td>\n",
       "      <td>1</td>\n",
       "      <td>True</td>\n",
       "      <td>4400</td>\n",
       "      <td>Talon Knife, Glock-18, C4 Explosive, AK-47, Sm...</td>\n",
       "      <td>163</td>\n",
       "      <td>False</td>\n",
       "      <td>False</td>\n",
       "      <td>0</td>\n",
       "      <td>4</td>\n",
       "      <td>2</td>\n",
       "      <td>0</td>\n",
       "      <td>[Glock-18, C4 Explosive, AK-47, Smoke Grenade,...</td>\n",
       "    </tr>\n",
       "    <tr>\n",
       "      <th>82</th>\n",
       "      <td>0</td>\n",
       "      <td>0</td>\n",
       "      <td>8</td>\n",
       "      <td>Team Liquid</td>\n",
       "      <td>de_ancient</td>\n",
       "      <td>9</td>\n",
       "      <td>FaZe Clan</td>\n",
       "      <td>B</td>\n",
       "      <td>NaN</td>\n",
       "      <td>B</td>\n",
       "      <td>False</td>\n",
       "      <td>112.21875</td>\n",
       "      <td>False</td>\n",
       "      <td>NaN</td>\n",
       "      <td>134.60938</td>\n",
       "      <td>T</td>\n",
       "      <td>NaN</td>\n",
       "      <td>ultimate</td>\n",
       "      <td>1</td>\n",
       "      <td>1</td>\n",
       "      <td>0</td>\n",
       "      <td>1</td>\n",
       "      <td>0</td>\n",
       "      <td>0</td>\n",
       "      <td>True</td>\n",
       "      <td>6650</td>\n",
       "      <td>M9 Bayonet, Glock-18, AWP, Smoke Grenade, Flas...</td>\n",
       "      <td>6</td>\n",
       "      <td>False</td>\n",
       "      <td>False</td>\n",
       "      <td>0</td>\n",
       "      <td>0</td>\n",
       "      <td>0</td>\n",
       "      <td>0</td>\n",
       "      <td>[Glock-18, AWP, Smoke Grenade, Flashbang]</td>\n",
       "    </tr>\n",
       "    <tr>\n",
       "      <th>83</th>\n",
       "      <td>0</td>\n",
       "      <td>0</td>\n",
       "      <td>8</td>\n",
       "      <td>Team Liquid</td>\n",
       "      <td>de_ancient</td>\n",
       "      <td>9</td>\n",
       "      <td>FaZe Clan</td>\n",
       "      <td>B</td>\n",
       "      <td>NaN</td>\n",
       "      <td>B</td>\n",
       "      <td>False</td>\n",
       "      <td>112.21875</td>\n",
       "      <td>False</td>\n",
       "      <td>NaN</td>\n",
       "      <td>134.60938</td>\n",
       "      <td>T</td>\n",
       "      <td>NaN</td>\n",
       "      <td>Twistzz</td>\n",
       "      <td>0</td>\n",
       "      <td>0</td>\n",
       "      <td>1</td>\n",
       "      <td>1</td>\n",
       "      <td>0</td>\n",
       "      <td>2</td>\n",
       "      <td>False</td>\n",
       "      <td>4700</td>\n",
       "      <td>Karambit, Glock-18, AK-47, Molotov, High Explo...</td>\n",
       "      <td>104</td>\n",
       "      <td>False</td>\n",
       "      <td>False</td>\n",
       "      <td>1</td>\n",
       "      <td>1</td>\n",
       "      <td>0</td>\n",
       "      <td>0</td>\n",
       "      <td>[Glock-18, AK-47, Molotov, High Explosive Gren...</td>\n",
       "    </tr>\n",
       "    <tr>\n",
       "      <th>84</th>\n",
       "      <td>0</td>\n",
       "      <td>0</td>\n",
       "      <td>8</td>\n",
       "      <td>FaZe Clan</td>\n",
       "      <td>de_ancient</td>\n",
       "      <td>9</td>\n",
       "      <td>FaZe Clan</td>\n",
       "      <td>B</td>\n",
       "      <td>NaN</td>\n",
       "      <td>B</td>\n",
       "      <td>False</td>\n",
       "      <td>112.21875</td>\n",
       "      <td>False</td>\n",
       "      <td>NaN</td>\n",
       "      <td>134.60938</td>\n",
       "      <td>T</td>\n",
       "      <td>NaN</td>\n",
       "      <td>frozen</td>\n",
       "      <td>1</td>\n",
       "      <td>0</td>\n",
       "      <td>0</td>\n",
       "      <td>0</td>\n",
       "      <td>0</td>\n",
       "      <td>0</td>\n",
       "      <td>True</td>\n",
       "      <td>800</td>\n",
       "      <td>Karambit, USP-S, AK-47, High Explosive Grenade...</td>\n",
       "      <td>0</td>\n",
       "      <td>False</td>\n",
       "      <td>False</td>\n",
       "      <td>0</td>\n",
       "      <td>0</td>\n",
       "      <td>0</td>\n",
       "      <td>0</td>\n",
       "      <td>[USP-S, AK-47, High Explosive Grenade, Flashba...</td>\n",
       "    </tr>\n",
       "    <tr>\n",
       "      <th>85</th>\n",
       "      <td>0</td>\n",
       "      <td>0</td>\n",
       "      <td>8</td>\n",
       "      <td>FaZe Clan</td>\n",
       "      <td>de_ancient</td>\n",
       "      <td>9</td>\n",
       "      <td>FaZe Clan</td>\n",
       "      <td>B</td>\n",
       "      <td>NaN</td>\n",
       "      <td>B</td>\n",
       "      <td>False</td>\n",
       "      <td>112.21875</td>\n",
       "      <td>False</td>\n",
       "      <td>NaN</td>\n",
       "      <td>134.60938</td>\n",
       "      <td>T</td>\n",
       "      <td>NaN</td>\n",
       "      <td>EliGE</td>\n",
       "      <td>1</td>\n",
       "      <td>1</td>\n",
       "      <td>2</td>\n",
       "      <td>0</td>\n",
       "      <td>2</td>\n",
       "      <td>0</td>\n",
       "      <td>True</td>\n",
       "      <td>4200</td>\n",
       "      <td>Shadow Daggers, P2000, M4A4, Flashbang, Smoke ...</td>\n",
       "      <td>12</td>\n",
       "      <td>False</td>\n",
       "      <td>False</td>\n",
       "      <td>0</td>\n",
       "      <td>0</td>\n",
       "      <td>0</td>\n",
       "      <td>1</td>\n",
       "      <td>[P2000, M4A4, Flashbang, Smoke Grenade, High E...</td>\n",
       "    </tr>\n",
       "    <tr>\n",
       "      <th>86</th>\n",
       "      <td>0</td>\n",
       "      <td>0</td>\n",
       "      <td>8</td>\n",
       "      <td>FaZe Clan</td>\n",
       "      <td>de_ancient</td>\n",
       "      <td>9</td>\n",
       "      <td>FaZe Clan</td>\n",
       "      <td>B</td>\n",
       "      <td>NaN</td>\n",
       "      <td>B</td>\n",
       "      <td>False</td>\n",
       "      <td>112.21875</td>\n",
       "      <td>False</td>\n",
       "      <td>NaN</td>\n",
       "      <td>134.60938</td>\n",
       "      <td>T</td>\n",
       "      <td>NaN</td>\n",
       "      <td>s1mple</td>\n",
       "      <td>1</td>\n",
       "      <td>1</td>\n",
       "      <td>1</td>\n",
       "      <td>0</td>\n",
       "      <td>0</td>\n",
       "      <td>2</td>\n",
       "      <td>True</td>\n",
       "      <td>2500</td>\n",
       "      <td>Butterfly Knife, USP-S, AWP, Smoke Grenade, Fl...</td>\n",
       "      <td>200</td>\n",
       "      <td>False</td>\n",
       "      <td>False</td>\n",
       "      <td>1</td>\n",
       "      <td>1</td>\n",
       "      <td>0</td>\n",
       "      <td>0</td>\n",
       "      <td>[USP-S, AWP, Smoke Grenade, Flashbang, Incendi...</td>\n",
       "    </tr>\n",
       "    <tr>\n",
       "      <th>87</th>\n",
       "      <td>0</td>\n",
       "      <td>0</td>\n",
       "      <td>8</td>\n",
       "      <td>FaZe Clan</td>\n",
       "      <td>de_ancient</td>\n",
       "      <td>9</td>\n",
       "      <td>FaZe Clan</td>\n",
       "      <td>B</td>\n",
       "      <td>NaN</td>\n",
       "      <td>B</td>\n",
       "      <td>False</td>\n",
       "      <td>112.21875</td>\n",
       "      <td>False</td>\n",
       "      <td>NaN</td>\n",
       "      <td>134.60938</td>\n",
       "      <td>T</td>\n",
       "      <td>NaN</td>\n",
       "      <td>Skullz</td>\n",
       "      <td>1</td>\n",
       "      <td>1</td>\n",
       "      <td>1</td>\n",
       "      <td>0</td>\n",
       "      <td>1</td>\n",
       "      <td>1</td>\n",
       "      <td>True</td>\n",
       "      <td>2300</td>\n",
       "      <td>Talon Knife, USP-S, AK-47, High Explosive Gren...</td>\n",
       "      <td>70</td>\n",
       "      <td>True</td>\n",
       "      <td>False</td>\n",
       "      <td>1</td>\n",
       "      <td>1</td>\n",
       "      <td>0</td>\n",
       "      <td>0</td>\n",
       "      <td>[USP-S, AK-47, High Explosive Grenade, Incendi...</td>\n",
       "    </tr>\n",
       "    <tr>\n",
       "      <th>88</th>\n",
       "      <td>0</td>\n",
       "      <td>0</td>\n",
       "      <td>8</td>\n",
       "      <td>FaZe Clan</td>\n",
       "      <td>de_ancient</td>\n",
       "      <td>9</td>\n",
       "      <td>FaZe Clan</td>\n",
       "      <td>B</td>\n",
       "      <td>NaN</td>\n",
       "      <td>B</td>\n",
       "      <td>False</td>\n",
       "      <td>112.21875</td>\n",
       "      <td>False</td>\n",
       "      <td>NaN</td>\n",
       "      <td>134.60938</td>\n",
       "      <td>T</td>\n",
       "      <td>NaN</td>\n",
       "      <td>karrigan</td>\n",
       "      <td>2</td>\n",
       "      <td>1</td>\n",
       "      <td>1</td>\n",
       "      <td>0</td>\n",
       "      <td>2</td>\n",
       "      <td>0</td>\n",
       "      <td>True</td>\n",
       "      <td>1300</td>\n",
       "      <td>Karambit, USP-S, AK-47, Smoke Grenade, High Ex...</td>\n",
       "      <td>100</td>\n",
       "      <td>False</td>\n",
       "      <td>False</td>\n",
       "      <td>0</td>\n",
       "      <td>2</td>\n",
       "      <td>0</td>\n",
       "      <td>0</td>\n",
       "      <td>[USP-S, AK-47, Smoke Grenade, High Explosive G...</td>\n",
       "    </tr>\n",
       "    <tr>\n",
       "      <th>89</th>\n",
       "      <td>0</td>\n",
       "      <td>0</td>\n",
       "      <td>8</td>\n",
       "      <td>Team Liquid</td>\n",
       "      <td>de_ancient</td>\n",
       "      <td>9</td>\n",
       "      <td>FaZe Clan</td>\n",
       "      <td>B</td>\n",
       "      <td>NaN</td>\n",
       "      <td>B</td>\n",
       "      <td>False</td>\n",
       "      <td>112.21875</td>\n",
       "      <td>False</td>\n",
       "      <td>NaN</td>\n",
       "      <td>134.60938</td>\n",
       "      <td>T</td>\n",
       "      <td>NaN</td>\n",
       "      <td>siuhy</td>\n",
       "      <td>2</td>\n",
       "      <td>1</td>\n",
       "      <td>0</td>\n",
       "      <td>1</td>\n",
       "      <td>0</td>\n",
       "      <td>0</td>\n",
       "      <td>True</td>\n",
       "      <td>3900</td>\n",
       "      <td>Karambit, Glock-18, Galil AR, Smoke Grenade, M...</td>\n",
       "      <td>32</td>\n",
       "      <td>False</td>\n",
       "      <td>True</td>\n",
       "      <td>0</td>\n",
       "      <td>2</td>\n",
       "      <td>0</td>\n",
       "      <td>0</td>\n",
       "      <td>[Glock-18, Galil AR, Smoke Grenade, Molotov, F...</td>\n",
       "    </tr>\n",
       "  </tbody>\n",
       "</table>\n",
       "</div>"
      ],
      "text/plain": [
       "    match_id  map_id  round_id    team_name    map_name  round_number  \\\n",
       "80         0       0         8  Team Liquid  de_ancient             9   \n",
       "81         0       0         8  Team Liquid  de_ancient             9   \n",
       "82         0       0         8  Team Liquid  de_ancient             9   \n",
       "83         0       0         8  Team Liquid  de_ancient             9   \n",
       "84         0       0         8    FaZe Clan  de_ancient             9   \n",
       "85         0       0         8    FaZe Clan  de_ancient             9   \n",
       "86         0       0         8    FaZe Clan  de_ancient             9   \n",
       "87         0       0         8    FaZe Clan  de_ancient             9   \n",
       "88         0       0         8    FaZe Clan  de_ancient             9   \n",
       "89         0       0         8  Team Liquid  de_ancient             9   \n",
       "\n",
       "   round_ct_team round_first_site_hit  round_site_hit_time  \\\n",
       "80     FaZe Clan                    B                  NaN   \n",
       "81     FaZe Clan                    B                  NaN   \n",
       "82     FaZe Clan                    B                  NaN   \n",
       "83     FaZe Clan                    B                  NaN   \n",
       "84     FaZe Clan                    B                  NaN   \n",
       "85     FaZe Clan                    B                  NaN   \n",
       "86     FaZe Clan                    B                  NaN   \n",
       "87     FaZe Clan                    B                  NaN   \n",
       "88     FaZe Clan                    B                  NaN   \n",
       "89     FaZe Clan                    B                  NaN   \n",
       "\n",
       "   round_bomb_plant_site  player_planted_bomb  round_bomb_plant_time  \\\n",
       "80                     B                 True              112.21875   \n",
       "81                     B                False              112.21875   \n",
       "82                     B                False              112.21875   \n",
       "83                     B                False              112.21875   \n",
       "84                     B                False              112.21875   \n",
       "85                     B                False              112.21875   \n",
       "86                     B                False              112.21875   \n",
       "87                     B                False              112.21875   \n",
       "88                     B                False              112.21875   \n",
       "89                     B                False              112.21875   \n",
       "\n",
       "    round_bomb_defuser  bomb_defuse_time  round_length round_result  \\\n",
       "80               False               NaN     134.60938            T   \n",
       "81               False               NaN     134.60938            T   \n",
       "82               False               NaN     134.60938            T   \n",
       "83               False               NaN     134.60938            T   \n",
       "84               False               NaN     134.60938            T   \n",
       "85               False               NaN     134.60938            T   \n",
       "86               False               NaN     134.60938            T   \n",
       "87               False               NaN     134.60938            T   \n",
       "88               False               NaN     134.60938            T   \n",
       "89               False               NaN     134.60938            T   \n",
       "\n",
       "   round_timeout_called_before player_name  player_flashes_used  \\\n",
       "80                         NaN       NertZ                    0   \n",
       "81                         NaN         NAF                    2   \n",
       "82                         NaN    ultimate                    1   \n",
       "83                         NaN     Twistzz                    0   \n",
       "84                         NaN      frozen                    1   \n",
       "85                         NaN       EliGE                    1   \n",
       "86                         NaN      s1mple                    1   \n",
       "87                         NaN      Skullz                    1   \n",
       "88                         NaN    karrigan                    2   \n",
       "89                         NaN       siuhy                    2   \n",
       "\n",
       "    player_smokes_used  player_grenades_used  player_molotovs_used  \\\n",
       "80                   2                     1                     1   \n",
       "81                   1                     0                     0   \n",
       "82                   1                     0                     1   \n",
       "83                   0                     1                     1   \n",
       "84                   0                     0                     0   \n",
       "85                   1                     2                     0   \n",
       "86                   1                     1                     0   \n",
       "87                   1                     1                     0   \n",
       "88                   1                     1                     0   \n",
       "89                   1                     0                     1   \n",
       "\n",
       "    player_incendiaries_used  player_kills  player_died  player_spent_amount  \\\n",
       "80                         0             2        False                 3800   \n",
       "81                         0             1         True                 4400   \n",
       "82                         0             0         True                 6650   \n",
       "83                         0             2        False                 4700   \n",
       "84                         0             0         True                  800   \n",
       "85                         2             0         True                 4200   \n",
       "86                         0             2         True                 2500   \n",
       "87                         1             1         True                 2300   \n",
       "88                         2             0         True                 1300   \n",
       "89                         0             0         True                 3900   \n",
       "\n",
       "                                       player_loadout  player_damage  \\\n",
       "80  Butterfly Knife, Glock-18, Galil AR, Smoke Gre...            195   \n",
       "81  Talon Knife, Glock-18, C4 Explosive, AK-47, Sm...            163   \n",
       "82  M9 Bayonet, Glock-18, AWP, Smoke Grenade, Flas...              6   \n",
       "83  Karambit, Glock-18, AK-47, Molotov, High Explo...            104   \n",
       "84  Karambit, USP-S, AK-47, High Explosive Grenade...              0   \n",
       "85  Shadow Daggers, P2000, M4A4, Flashbang, Smoke ...             12   \n",
       "86  Butterfly Knife, USP-S, AWP, Smoke Grenade, Fl...            200   \n",
       "87  Talon Knife, USP-S, AK-47, High Explosive Gren...             70   \n",
       "88  Karambit, USP-S, AK-47, Smoke Grenade, High Ex...            100   \n",
       "89  Karambit, Glock-18, Galil AR, Smoke Grenade, M...             32   \n",
       "\n",
       "    round_first_killer  round_first_death  player_headshots  \\\n",
       "80               False              False                 1   \n",
       "81               False              False                 0   \n",
       "82               False              False                 0   \n",
       "83               False              False                 1   \n",
       "84               False              False                 0   \n",
       "85               False              False                 0   \n",
       "86               False              False                 1   \n",
       "87                True              False                 1   \n",
       "88               False              False                 0   \n",
       "89               False               True                 0   \n",
       "\n",
       "    player_upperbodyshots  player_stomachshots  player_legshots  \\\n",
       "80                      1                    1                0   \n",
       "81                      4                    2                0   \n",
       "82                      0                    0                0   \n",
       "83                      1                    0                0   \n",
       "84                      0                    0                0   \n",
       "85                      0                    0                1   \n",
       "86                      1                    0                0   \n",
       "87                      1                    0                0   \n",
       "88                      2                    0                0   \n",
       "89                      2                    0                0   \n",
       "\n",
       "                                 player_loadout_array  \n",
       "80  [Glock-18, Galil AR, Smoke Grenade, Molotov, H...  \n",
       "81  [Glock-18, C4 Explosive, AK-47, Smoke Grenade,...  \n",
       "82          [Glock-18, AWP, Smoke Grenade, Flashbang]  \n",
       "83  [Glock-18, AK-47, Molotov, High Explosive Gren...  \n",
       "84  [USP-S, AK-47, High Explosive Grenade, Flashba...  \n",
       "85  [P2000, M4A4, Flashbang, Smoke Grenade, High E...  \n",
       "86  [USP-S, AWP, Smoke Grenade, Flashbang, Incendi...  \n",
       "87  [USP-S, AK-47, High Explosive Grenade, Incendi...  \n",
       "88  [USP-S, AK-47, Smoke Grenade, High Explosive G...  \n",
       "89  [Glock-18, Galil AR, Smoke Grenade, Molotov, F...  "
      ]
     },
     "execution_count": 160,
     "metadata": {},
     "output_type": "execute_result"
    }
   ],
   "source": [
    "def impute_round_first_site_hit(row: pd.Series):\n",
    "    if pd.isna(row[\"round_first_site_hit\"]):\n",
    "        return row[\"round_bomb_plant_site\"]\n",
    "    else:\n",
    "        return row[\"round_first_site_hit\"]\n",
    "\n",
    "\n",
    "demos[\"round_first_site_hit\"] = demos.apply(impute_round_first_site_hit, axis=1)\n",
    "\n",
    "pd.set_option(\"display.max_columns\", None)\n",
    "\n",
    "# show sample imputed row\n",
    "demos[demos[\"round_id\"] == 8]"
   ]
  },
  {
   "cell_type": "markdown",
   "id": "55bdf2d4",
   "metadata": {},
   "source": [
    "==================================="
   ]
  },
  {
   "cell_type": "markdown",
   "id": "0e695dee",
   "metadata": {},
   "source": [
    "### Determining if Mean Round Lengths are Different in Rounds With and Without Timeout\n",
    "\n",
    "For this part, we will use an unpaired t-test to determine if there is a difference in mean round lengths in rounds with and without timeout\n",
    "\n",
    "Our null hypothesis $H_0$ will be there is no difference in the average round length in rounds with versus without timeouts\n",
    "\n",
    "Our alternate  hypothesis $H_a$ will be there is a difference in the average round length in rounds with versus without timeouts\n",
    "\n",
    "These tests will be performed with $\\alpha=0.05$\n",
    "\n",
    "First, we obtain our two groups from our dataset:"
   ]
  },
  {
   "cell_type": "code",
   "execution_count": 161,
   "id": "e79c1d8e",
   "metadata": {},
   "outputs": [
    {
     "data": {
      "text/plain": [
       "60     66.093750\n",
       "190    97.437500\n",
       "220    42.312500\n",
       "290    60.062500\n",
       "340    85.171875\n",
       "Name: round_length, dtype: float64"
      ]
     },
     "execution_count": 161,
     "metadata": {},
     "output_type": "execute_result"
    }
   ],
   "source": [
    "rounds_with_timeouts = demos.loc[~demos['round_timeout_called_before'].isna()].drop_duplicates(subset=['round_id'])['round_length']\n",
    "rounds_with_timeouts.head(5)"
   ]
  },
  {
   "cell_type": "code",
   "execution_count": 162,
   "id": "36fa7de5",
   "metadata": {},
   "outputs": [
    {
     "data": {
      "text/plain": [
       "0      57.937500\n",
       "10     65.125000\n",
       "20    113.546875\n",
       "30    115.312500\n",
       "40     48.343750\n",
       "Name: round_length, dtype: float64"
      ]
     },
     "execution_count": 162,
     "metadata": {},
     "output_type": "execute_result"
    }
   ],
   "source": [
    "rounds_without_timeouts = demos.loc[demos['round_timeout_called_before'].isna()].drop_duplicates(subset=['round_id'])['round_length']\n",
    "rounds_without_timeouts.head(5)"
   ]
  },
  {
   "cell_type": "markdown",
   "id": "5e7499cb",
   "metadata": {},
   "source": [
    "Next, we perform the t-test:"
   ]
  },
  {
   "cell_type": "code",
   "execution_count": 163,
   "id": "6d99c383",
   "metadata": {},
   "outputs": [
    {
     "data": {
      "text/plain": [
       "TtestResult(statistic=np.float64(2.7686405664351414), pvalue=np.float64(0.005704278101797772), df=np.float64(1382.0))"
      ]
     },
     "execution_count": 163,
     "metadata": {},
     "output_type": "execute_result"
    }
   ],
   "source": [
    "stats.ttest_ind(rounds_with_timeouts, rounds_without_timeouts)"
   ]
  },
  {
   "cell_type": "markdown",
   "id": "99a77d10",
   "metadata": {},
   "source": [
    "Since we obtained $p=0.0057 < \\alpha=0.05$, we reject $H_0$\n",
    "\n",
    "Therefore, there is a difference in round times if a timeout was called versus without"
   ]
  },
  {
   "cell_type": "markdown",
   "id": "b6f46842",
   "metadata": {},
   "source": [
    "### Determining if Site Hit Time is Different where T versus CT win\n",
    "\n",
    "For this part, we will use an unpaired t-test to determine if there is a difference in mean site hit time if T wins versus if CT wins\n",
    "\n",
    "Our null hypothesis $H_0$ will be there is no difference in the average site hit time in rounds where T wins versus if CT wins\n",
    "\n",
    "Our alternate  hypothesis $H_a$ will be there is a difference in the average site hit time in rounds where T wins versus if CT wins\n",
    "\n",
    "These tests will be performed with $\\alpha=0.05$\n",
    "\n",
    "First, we obtain our two groups from our dataset:"
   ]
  },
  {
   "cell_type": "code",
   "execution_count": null,
   "id": "01a0323c",
   "metadata": {},
   "outputs": [
    {
     "data": {
      "text/plain": [
       "20     93.000000\n",
       "30     45.093750\n",
       "40     37.640625\n",
       "50     33.328125\n",
       "110    15.296875\n",
       "Name: round_site_hit_time, dtype: float64"
      ]
     },
     "execution_count": 166,
     "metadata": {},
     "output_type": "execute_result"
    }
   ],
   "source": [
    "site_hit_times_t = demos.loc[demos['round_result'] == 'T'].drop_duplicates(subset='round_id')['round_site_hit_time'].dropna()\n",
    "site_hit_times_t.head(5)"
   ]
  },
  {
   "cell_type": "code",
   "execution_count": 167,
   "id": "8d21439d",
   "metadata": {},
   "outputs": [
    {
     "data": {
      "text/plain": [
       "0       23.078125\n",
       "60      64.765625\n",
       "70     100.890625\n",
       "200     76.843750\n",
       "210     25.046875\n",
       "Name: round_site_hit_time, dtype: float64"
      ]
     },
     "execution_count": 167,
     "metadata": {},
     "output_type": "execute_result"
    }
   ],
   "source": [
    "site_hit_times_ct = demos.loc[demos['round_result'] == 'CT'].drop_duplicates(subset='round_id')['round_site_hit_time'].dropna()\n",
    "site_hit_times_ct.head(5)"
   ]
  },
  {
   "cell_type": "markdown",
   "id": "b86b08a6",
   "metadata": {},
   "source": [
    "Next, we perform the t-test:"
   ]
  },
  {
   "cell_type": "code",
   "execution_count": 168,
   "id": "002cb387",
   "metadata": {},
   "outputs": [
    {
     "data": {
      "text/plain": [
       "TtestResult(statistic=np.float64(-0.657191973893648), pvalue=np.float64(0.5112467435502706), df=np.float64(799.0))"
      ]
     },
     "execution_count": 168,
     "metadata": {},
     "output_type": "execute_result"
    }
   ],
   "source": [
    "stats.ttest_ind(site_hit_times_t, site_hit_times_ct)"
   ]
  },
  {
   "cell_type": "markdown",
   "id": "4a795ebb",
   "metadata": {},
   "source": [
    "Since we obtained $p=0.5362 > \\alpha=0.05$, we do not reject $H_0$\n",
    "\n",
    "Therefore, there is no evidence to suggest that the site hit time is different between rounds that were won by T versus rounds won by CT.\n",
    "\n",
    "However, a limitation of this test is that there are a significant number of rounds where `site_hit_time` is `NaN`, which places doubts on this test."
   ]
  },
  {
   "cell_type": "markdown",
   "id": "bece448d",
   "metadata": {},
   "source": [
    "### Determining if Bomb Plant Time is Different where T versus CT Win\n",
    "\n",
    "For this part, we will use an unpaired t-test to determine if there is a difference in mean bomb plant time if T wins versus if CT wins\n",
    "\n",
    "Our null hypothesis $H_0$ will be there is no difference in the average bomb plant time in rounds where T wins versus if CT wins\n",
    "\n",
    "Our alternate  hypothesis $H_a$ will be there is a difference in the average bomb plant time in rounds where T wins versus if CT wins\n",
    "\n",
    "These tests will be performed with $\\alpha=0.05$\n",
    "\n",
    "First, we obtain our two groups from our dataset:"
   ]
  },
  {
   "cell_type": "code",
   "execution_count": 173,
   "id": "3aa12b64",
   "metadata": {},
   "outputs": [
    {
     "data": {
      "text/plain": [
       "20    103.500000\n",
       "30     80.546875\n",
       "50     40.890625\n",
       "80    112.218750\n",
       "90     94.953125\n",
       "Name: round_bomb_plant_time, dtype: float64"
      ]
     },
     "execution_count": 173,
     "metadata": {},
     "output_type": "execute_result"
    }
   ],
   "source": [
    "round_bomb_plant_times_t = demos.loc[demos['round_result'] == 'T'].drop_duplicates(subset='round_id')['round_bomb_plant_time'].dropna()\n",
    "round_bomb_plant_times_t.head(5)"
   ]
  },
  {
   "cell_type": "code",
   "execution_count": 174,
   "id": "dca02e2a",
   "metadata": {},
   "outputs": [
    {
     "data": {
      "text/plain": [
       "70     113.093750\n",
       "120     46.437500\n",
       "210     43.281250\n",
       "240    113.234375\n",
       "400    100.984375\n",
       "Name: round_bomb_plant_time, dtype: float64"
      ]
     },
     "execution_count": 174,
     "metadata": {},
     "output_type": "execute_result"
    }
   ],
   "source": [
    "round_bomb_plant_times_ct = demos.loc[demos['round_result'] == 'CT'].drop_duplicates(subset='round_id')['round_bomb_plant_time'].dropna()\n",
    "round_bomb_plant_times_ct.head(5)"
   ]
  },
  {
   "cell_type": "markdown",
   "id": "3ca36b83",
   "metadata": {},
   "source": [
    "Next, we perform the t-test:"
   ]
  },
  {
   "cell_type": "code",
   "execution_count": 175,
   "id": "9ff49a14",
   "metadata": {},
   "outputs": [
    {
     "data": {
      "text/plain": [
       "TtestResult(statistic=np.float64(7.867161263480484), pvalue=np.float64(1.0444211216279626e-14), df=np.float64(894.0))"
      ]
     },
     "execution_count": 175,
     "metadata": {},
     "output_type": "execute_result"
    }
   ],
   "source": [
    "stats.ttest_ind(site_hit_times_t, site_hit_times_ct)"
   ]
  },
  {
   "cell_type": "markdown",
   "id": "a084af9c",
   "metadata": {},
   "source": [
    "Since we obtained $p=0.0000 < \\alpha=0.05$, we reject $H_0$\n",
    "\n",
    "Therefore, there is no evidence to suggest that the bomb time is different between rounds that were won by T versus rounds won by CT.\n",
    "\n",
    "However, a limitation of this test is that there are a significant number of rounds where `bomb_plant_time` is `NaN`, which places doubts on this test. Even still, this could indicate things like the success rate of a retake, if a round took longer, among other things. One potential reason for this difference is if a round drags on for longer, player's HP values may be lower than in shorter rounds, affecting how rounds are played."
   ]
  }
 ],
 "metadata": {
  "kernelspec": {
   "display_name": "Python 3",
   "language": "python",
   "name": "python3"
  },
  "language_info": {
   "codemirror_mode": {
    "name": "ipython",
    "version": 3
   },
   "file_extension": ".py",
   "mimetype": "text/x-python",
   "name": "python",
   "nbconvert_exporter": "python",
   "pygments_lexer": "ipython3",
   "version": "3.13.0"
  }
 },
 "nbformat": 4,
 "nbformat_minor": 5
}
