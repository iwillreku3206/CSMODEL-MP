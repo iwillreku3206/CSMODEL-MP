{
 "cells": [
  {
   "cell_type": "code",
   "execution_count": 1,
   "id": "3d5c59a4",
   "metadata": {},
   "outputs": [
    {
     "name": "stdout",
     "output_type": "stream",
     "text": [
      "<class 'pandas.core.frame.DataFrame'>\n",
      "RangeIndex: 14280 entries, 0 to 14279\n",
      "Data columns (total 34 columns):\n",
      " #   Column                       Non-Null Count  Dtype  \n",
      "---  ------                       --------------  -----  \n",
      " 0   match_id                     14280 non-null  int64  \n",
      " 1   map_id                       14280 non-null  int64  \n",
      " 2   round_id                     14280 non-null  int64  \n",
      " 3   team_name                    14280 non-null  object \n",
      " 4   map_name                     14280 non-null  object \n",
      " 5   round_number                 14280 non-null  int64  \n",
      " 6   round_ct_team                14280 non-null  object \n",
      " 7   round_first_site_hit         8290 non-null   object \n",
      " 8   round_site_hit_time          8290 non-null   float64\n",
      " 9   round_bomb_plant_site        7460 non-null   object \n",
      " 10  player_planted_bomb          14280 non-null  bool   \n",
      " 11  round_bomb_plant_time        7460 non-null   float64\n",
      " 12  round_bomb_defuser           14280 non-null  bool   \n",
      " 13  bomb_defuse_time             1670 non-null   float64\n",
      " 14  round_length                 14280 non-null  float64\n",
      " 15  round_result                 14270 non-null  object \n",
      " 16  round_timeout_called_before  1690 non-null   object \n",
      " 17  player_name                  14280 non-null  object \n",
      " 18  player_flashes_used          14280 non-null  int64  \n",
      " 19  player_smokes_used           14280 non-null  int64  \n",
      " 20  player_grenades_used         14280 non-null  int64  \n",
      " 21  player_molotovs_used         14280 non-null  int64  \n",
      " 22  player_incendiaries_used     14280 non-null  int64  \n",
      " 23  player_kills                 14280 non-null  int64  \n",
      " 24  player_died                  14280 non-null  bool   \n",
      " 25  player_spent_amount          14280 non-null  int64  \n",
      " 26  player_loadout               14280 non-null  object \n",
      " 27  player_damage                14280 non-null  int64  \n",
      " 28  round_first_killer           14280 non-null  bool   \n",
      " 29  round_first_death            14280 non-null  bool   \n",
      " 30  player_headshots             14280 non-null  int64  \n",
      " 31  player_upperbodyshots        14280 non-null  int64  \n",
      " 32  player_stomachshots          14280 non-null  int64  \n",
      " 33  player_legshots              14280 non-null  int64  \n",
      "dtypes: bool(5), float64(4), int64(16), object(9)\n",
      "memory usage: 3.2+ MB\n"
     ]
    }
   ],
   "source": [
    "import pandas as pd\n",
    "import numpy as np\n",
    "import matplotlib as plt\n",
    "\n",
    "iem_dallas_df = pd.read_csv(\"demos.csv\")\n",
    "iem_dallas_df.info()"
   ]
  },
  {
   "cell_type": "markdown",
   "id": "029bc3bb",
   "metadata": {},
   "source": [
    "Average Kills of Each Player Throughout the Tournament"
   ]
  },
  {
   "cell_type": "code",
   "execution_count": 2,
   "id": "9a7df4c5",
   "metadata": {},
   "outputs": [
    {
     "data": {
      "text/plain": [
       "Text(0.5, 1.0, 'Average Kills of each Player in IEM Dallas 2025')"
      ]
     },
     "execution_count": 2,
     "metadata": {},
     "output_type": "execute_result"
    },
    {
     "data": {
      "image/png": "[encoded data removed]",
      "text/plain": [
       "<Figure size 1200x600 with 1 Axes>"
      ]
     },
     "metadata": {},
     "output_type": "display_data"
    }
   ],
   "source": [
    "total_kills_per_player = iem_dallas_df.groupby(\"player_name\")[\"player_kills\"].sum()\n",
    "\n",
    "total_rounds_per_player = iem_dallas_df.groupby(\"player_name\")[\"round_id\"].nunique().to_frame().reset_index()\n",
    "total_rounds_per_player.rename(columns={\"round_id\": \"total_rounds\"}, inplace=True)\n",
    "\n",
    "\n",
    "overall_average_kills_per_player_df = pd.merge(total_kills_per_player, total_rounds_per_player, on=\"player_name\")\n",
    "overall_average_kills_per_player_df['average_kills'] = overall_average_kills_per_player_df[\"player_kills\"] / overall_average_kills_per_player_df[\"total_rounds\"]\n",
    "\n",
    "overall_average_kills_per_player_df = overall_average_kills_per_player_df.sort_values(\"average_kills\", ascending=False)\n",
    "\n",
    "overall_average_kills_per_player_df.boxplot('average_kills', figsize=(12, 6))\n",
    "plt.pyplot.title(\"Average Kills of each Player in IEM Dallas 2025\")\n",
    "\n",
    "\n"
   ]
  },
  {
   "cell_type": "markdown",
   "id": "8c401b89",
   "metadata": {},
   "source": [
    "Average "
   ]
  },
  {
   "cell_type": "code",
   "execution_count": null,
   "id": "7bf539d4",
   "metadata": {},
   "outputs": [],
   "source": []
  }
 ],
 "metadata": {
  "kernelspec": {
   "display_name": "Python 3",
   "language": "python",
   "name": "python3"
  },
  "language_info": {
   "codemirror_mode": {
    "name": "ipython",
    "version": 3
   },
   "file_extension": ".py",
   "mimetype": "text/x-python",
   "name": "python",
   "nbconvert_exporter": "python",
   "pygments_lexer": "ipython3",
   "version": "3.13.3"
  }
 },
 "nbformat": 4,
 "nbformat_minor": 5
}
