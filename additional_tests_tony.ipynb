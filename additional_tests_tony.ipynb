{
 "cells": [
  {
   "cell_type": "code",
   "execution_count": 42,
   "id": "120b9146",
   "metadata": {},
   "outputs": [],
   "source": [
    "import pandas as pd\n",
    "from scipy.stats import chi2_contingency"
   ]
  },
  {
   "cell_type": "markdown",
   "id": "f4e44f13",
   "metadata": {},
   "source": [
    "## Bomb Plant per Map\n"
   ]
  },
  {
   "cell_type": "markdown",
   "id": "996d38c0",
   "metadata": {},
   "source": [
    "Each round for all maps, a terrorist team may be able to plant the bomb. This test is done to see if the map being played upon affects the rate at which the terrorist are able to plant the bomb. To do this, the contingency table must be extracted; wherein the column indices are whether the bomb has been planted or not, and the row indices are the maps. This will then undergo chi-square test, since we are looking for the independence of two categorical variables.\n",
    "\n",
    "With this in mind, the null hypothesis would be: \"The map and the terrorist team being successful in planting a bomb is independent of each other.\"\n",
    "\n",
    "The test will be at 95% confidence level, where p must be < 0.05 to reject the null hypothesis. "
   ]
  },
  {
   "cell_type": "code",
   "execution_count": 43,
   "id": "ab282313",
   "metadata": {},
   "outputs": [
    {
     "name": "stderr",
     "output_type": "stream",
     "text": [
      "C:\\Users\\user\\AppData\\Local\\Temp\\ipykernel_22260\\1264610674.py:5: SettingWithCopyWarning: \n",
      "A value is trying to be set on a copy of a slice from a DataFrame.\n",
      "Try using .loc[row_indexer,col_indexer] = value instead\n",
      "\n",
      "See the caveats in the documentation: https://pandas.pydata.org/pandas-docs/stable/user_guide/indexing.html#returning-a-view-versus-a-copy\n",
      "  bomb_df['bomb_planted'] = bomb_df['round_bomb_plant_site'].notnull().astype(int)\n"
     ]
    }
   ],
   "source": [
    "main_df = pd.read_csv(\"demos.csv\")\n",
    "\n",
    "main_df.drop_duplicates(subset=['round_id'], inplace=True)\n",
    "bomb_df = main_df[['round_id', 'map_name', 'round_first_site_hit', 'round_bomb_plant_site']]\n",
    "bomb_df['bomb_planted'] = bomb_df['round_bomb_plant_site'].notnull().astype(int)\n"
   ]
  },
  {
   "cell_type": "markdown",
   "id": "54c3b0e8",
   "metadata": {},
   "source": [
    "### Contingency table"
   ]
  },
  {
   "cell_type": "code",
   "execution_count": 44,
   "id": "1ff5fa0f",
   "metadata": {},
   "outputs": [
    {
     "data": {
      "text/html": [
       "<div>\n",
       "<style scoped>\n",
       "    .dataframe tbody tr th:only-of-type {\n",
       "        vertical-align: middle;\n",
       "    }\n",
       "\n",
       "    .dataframe tbody tr th {\n",
       "        vertical-align: top;\n",
       "    }\n",
       "\n",
       "    .dataframe thead th {\n",
       "        text-align: right;\n",
       "    }\n",
       "</style>\n",
       "<table border=\"1\" class=\"dataframe\">\n",
       "  <thead>\n",
       "    <tr style=\"text-align: right;\">\n",
       "      <th>bomb_planted</th>\n",
       "      <th>0</th>\n",
       "      <th>1</th>\n",
       "    </tr>\n",
       "    <tr>\n",
       "      <th>map_name</th>\n",
       "      <th></th>\n",
       "      <th></th>\n",
       "    </tr>\n",
       "  </thead>\n",
       "  <tbody>\n",
       "    <tr>\n",
       "      <th>de_ancient</th>\n",
       "      <td>55</td>\n",
       "      <td>79</td>\n",
       "    </tr>\n",
       "    <tr>\n",
       "      <th>de_anubis</th>\n",
       "      <td>38</td>\n",
       "      <td>45</td>\n",
       "    </tr>\n",
       "    <tr>\n",
       "      <th>de_dust2</th>\n",
       "      <td>141</td>\n",
       "      <td>155</td>\n",
       "    </tr>\n",
       "    <tr>\n",
       "      <th>de_inferno</th>\n",
       "      <td>120</td>\n",
       "      <td>165</td>\n",
       "    </tr>\n",
       "    <tr>\n",
       "      <th>de_mirage</th>\n",
       "      <td>150</td>\n",
       "      <td>143</td>\n",
       "    </tr>\n",
       "    <tr>\n",
       "      <th>de_nuke</th>\n",
       "      <td>143</td>\n",
       "      <td>119</td>\n",
       "    </tr>\n",
       "    <tr>\n",
       "      <th>de_train</th>\n",
       "      <td>35</td>\n",
       "      <td>40</td>\n",
       "    </tr>\n",
       "  </tbody>\n",
       "</table>\n",
       "</div>"
      ],
      "text/plain": [
       "bomb_planted    0    1\n",
       "map_name              \n",
       "de_ancient     55   79\n",
       "de_anubis      38   45\n",
       "de_dust2      141  155\n",
       "de_inferno    120  165\n",
       "de_mirage     150  143\n",
       "de_nuke       143  119\n",
       "de_train       35   40"
      ]
     },
     "execution_count": 44,
     "metadata": {},
     "output_type": "execute_result"
    }
   ],
   "source": [
    "bomb_plant_contingency_table = pd.crosstab(bomb_df['map_name'], bomb_df['bomb_planted'])\n",
    "bomb_plant_contingency_table"
   ]
  },
  {
   "cell_type": "markdown",
   "id": "9e608fc6",
   "metadata": {},
   "source": [
    "### Chi-Square Test\n",
    "\n"
   ]
  },
  {
   "cell_type": "code",
   "execution_count": 45,
   "id": "61e70ccf",
   "metadata": {},
   "outputs": [
    {
     "name": "stdout",
     "output_type": "stream",
     "text": [
      "p = 0.0515\n"
     ]
    }
   ],
   "source": [
    "chi2, p, dof, expected = chi2_contingency(bomb_plant_contingency_table)\n",
    "print(f\"p = {p:.4f}\")"
   ]
  },
  {
   "cell_type": "markdown",
   "id": "672c1df7",
   "metadata": {},
   "source": [
    "With p-value = 0.0515, we fail to reject the null hypothesis. Thus, it can be said that the terrorist team being able to successfully plant the bomb is independent with the map played. This can mean that the map does not necessarily favor or hinder terrorists in planting the bomb. There may be other factors that are more fit to be associated with the terrorist team being able to plant the bomb."
   ]
  },
  {
   "cell_type": "markdown",
   "id": "cc5d3e02",
   "metadata": {},
   "source": [
    "## Bomb Plant and First Site Hit"
   ]
  },
  {
   "cell_type": "markdown",
   "id": "1c9faf50",
   "metadata": {},
   "source": [
    "In some rounds, players do not plant at the same site as the first site that they entered in. There can be instances where players \"rotate\" to another site after they entered another site. This part of the testing determines the dependence of players planting the bomb in the same site they first entered in with the map being played upon. This will be tested via chi-square contingency as the relevant variables are categorical in nature.  \n",
    "\n",
    "With this in mind, the null hypothesis would be: \"The terrorist team successfully planting in the same site as they first entered in is independent with the map\"\n",
    "\n",
    "The test will be at 95% confidence level, where p must be < 0.05 to reject the null hypothesis. "
   ]
  },
  {
   "cell_type": "code",
   "execution_count": 46,
   "id": "0a4d2d6a",
   "metadata": {},
   "outputs": [],
   "source": [
    "same_site_df = bomb_df.copy()\n",
    "same_site_df.dropna(subset=['round_first_site_hit'], inplace=True)\n",
    "\n",
    "same_site_df['same_site_hit'] = (same_site_df['round_first_site_hit'] == same_site_df['round_bomb_plant_site'])\n",
    "\n",
    "same_site_df = same_site_df.loc[same_site_df['bomb_planted'] == 1]"
   ]
  },
  {
   "cell_type": "markdown",
   "id": "9c0a9cfd",
   "metadata": {},
   "source": [
    "### Contingency Table"
   ]
  },
  {
   "cell_type": "code",
   "execution_count": 47,
   "id": "eec3950e",
   "metadata": {},
   "outputs": [
    {
     "data": {
      "text/html": [
       "<div>\n",
       "<style scoped>\n",
       "    .dataframe tbody tr th:only-of-type {\n",
       "        vertical-align: middle;\n",
       "    }\n",
       "\n",
       "    .dataframe tbody tr th {\n",
       "        vertical-align: top;\n",
       "    }\n",
       "\n",
       "    .dataframe thead th {\n",
       "        text-align: right;\n",
       "    }\n",
       "</style>\n",
       "<table border=\"1\" class=\"dataframe\">\n",
       "  <thead>\n",
       "    <tr style=\"text-align: right;\">\n",
       "      <th>same_site_hit</th>\n",
       "      <th>False</th>\n",
       "      <th>True</th>\n",
       "    </tr>\n",
       "    <tr>\n",
       "      <th>map_name</th>\n",
       "      <th></th>\n",
       "      <th></th>\n",
       "    </tr>\n",
       "  </thead>\n",
       "  <tbody>\n",
       "    <tr>\n",
       "      <th>de_ancient</th>\n",
       "      <td>7</td>\n",
       "      <td>46</td>\n",
       "    </tr>\n",
       "    <tr>\n",
       "      <th>de_anubis</th>\n",
       "      <td>5</td>\n",
       "      <td>25</td>\n",
       "    </tr>\n",
       "    <tr>\n",
       "      <th>de_dust2</th>\n",
       "      <td>7</td>\n",
       "      <td>112</td>\n",
       "    </tr>\n",
       "    <tr>\n",
       "      <th>de_inferno</th>\n",
       "      <td>12</td>\n",
       "      <td>104</td>\n",
       "    </tr>\n",
       "    <tr>\n",
       "      <th>de_mirage</th>\n",
       "      <td>10</td>\n",
       "      <td>74</td>\n",
       "    </tr>\n",
       "    <tr>\n",
       "      <th>de_nuke</th>\n",
       "      <td>13</td>\n",
       "      <td>73</td>\n",
       "    </tr>\n",
       "    <tr>\n",
       "      <th>de_train</th>\n",
       "      <td>11</td>\n",
       "      <td>20</td>\n",
       "    </tr>\n",
       "  </tbody>\n",
       "</table>\n",
       "</div>"
      ],
      "text/plain": [
       "same_site_hit  False  True \n",
       "map_name                   \n",
       "de_ancient         7     46\n",
       "de_anubis          5     25\n",
       "de_dust2           7    112\n",
       "de_inferno        12    104\n",
       "de_mirage         10     74\n",
       "de_nuke           13     73\n",
       "de_train          11     20"
      ]
     },
     "execution_count": 47,
     "metadata": {},
     "output_type": "execute_result"
    }
   ],
   "source": [
    "same_site_contingency_table = pd.crosstab(same_site_df['map_name'], same_site_df['same_site_hit'])\n",
    "same_site_contingency_table"
   ]
  },
  {
   "cell_type": "markdown",
   "id": "0d3a8ac5",
   "metadata": {},
   "source": [
    "### Chi-Square Test"
   ]
  },
  {
   "cell_type": "code",
   "execution_count": 48,
   "id": "73275bcb",
   "metadata": {},
   "outputs": [
    {
     "name": "stdout",
     "output_type": "stream",
     "text": [
      "p = 0.0016\n"
     ]
    }
   ],
   "source": [
    "chi2, p, dof, expected = chi2_contingency(same_site_contingency_table, correction=False)\n",
    "print(f\"p = {p:.4f}\")"
   ]
  },
  {
   "cell_type": "markdown",
   "id": "b5abf3a1",
   "metadata": {},
   "source": [
    "With p-value = 0.0016, we reject the null hypothesis. Thus, it can be said that having the bomb planted on the same site as the first site hit is dependent with map played. This means that certain maps may be associated with certain strategies with regards to attack \"rotation\". There can be maps where players often choose to rotate to another site, and there are maps where the first site hit is the optimal site to plant the bomb on. "
   ]
  }
 ],
 "metadata": {
  "kernelspec": {
   "display_name": "Python 3",
   "language": "python",
   "name": "python3"
  },
  "language_info": {
   "codemirror_mode": {
    "name": "ipython",
    "version": 3
   },
   "file_extension": ".py",
   "mimetype": "text/x-python",
   "name": "python",
   "nbconvert_exporter": "python",
   "pygments_lexer": "ipython3",
   "version": "3.13.3"
  }
 },
 "nbformat": 4,
 "nbformat_minor": 5
}
