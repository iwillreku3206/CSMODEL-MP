﻿{
 "cells": [
  {
   "cell_type": "code",
   "execution_count": null,
   "id": "initial_id",
   "metadata": {
    "collapsed": true
   },
   "outputs": [],
   "source": [
    "zimport pandas as pd\n",
    "import numpy as np\n",
    "import matplotlib as plt"
   ]
  },
  {
   "metadata": {},
   "cell_type": "markdown",
   "source": [
    "# Column Information\n",
    "\n",
    "The following columns are in our datasets:\n",
    "\n",
    "## `iem_dallas_player_rounds.csv`\n",
    "- `col_name`: `type` - Description\n",
    "\n",
    "## `iem_dallas_players`\n",
    "\n",
    "## `iem_dallas_matches`"
   ],
   "id": "5aeee2a603b94ee3"
  },
  {
   "metadata": {},
   "cell_type": "markdown",
   "source": "# Data Gathering Methodology",
   "id": "fe4a5923c1e7a907"
  },
  {
   "metadata": {},
   "cell_type": "markdown",
   "source": [
    "## On Data Cleaning\n",
    "\n",
    "We did not perform data cleaning on our dataset in this notebook since we gathered our data from our own scripts and manual scraping.\n",
    "\n",
    "However, our scripts performed the following data cleaning steps:\n"
   ],
   "id": "53500a526d29802c"
  },
  {
   "metadata": {},
   "cell_type": "markdown",
   "source": "# EDA",
   "id": "4a52b13731fe8cc3"
  },
  {
   "metadata": {},
   "cell_type": "markdown",
   "source": "# Sources",
   "id": "bdab03f34d30cd64"
  },
  {
   "metadata": {},
   "cell_type": "markdown",
   "source": "# AI Disclaimer",
   "id": "81d463cdf974914e"
  }
 ],
 "metadata": {
  "kernelspec": {
   "display_name": "Python 3",
   "language": "python",
   "name": "python3"
  },
  "language_info": {
   "codemirror_mode": {
    "name": "ipython",
    "version": 2
   },
   "file_extension": ".py",
   "mimetype": "text/x-python",
   "name": "python",
   "nbconvert_exporter": "python",
   "pygments_lexer": "ipython2",
   "version": "2.7.6"
  }
 },
 "nbformat": 4,
 "nbformat_minor": 5
}
